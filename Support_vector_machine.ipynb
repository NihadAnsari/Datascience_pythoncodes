{
  "nbformat": 4,
  "nbformat_minor": 0,
  "metadata": {
    "colab": {
      "name": "Support vector machine.ipynb",
      "provenance": []
    },
    "kernelspec": {
      "name": "python3",
      "display_name": "Python 3"
    },
    "language_info": {
      "name": "python"
    }
  },
  "cells": [
    {
      "cell_type": "code",
      "metadata": {
        "id": "L54l32N8EN7Y"
      },
      "source": [
        "import numpy\n",
        "import pandas\n",
        "\n",
        "from sklearn.feature_selection import RFE\n",
        "from sklearn.ensemble import ExtraTreesRegressor\n",
        "\n",
        "\n",
        "import matplotlib.pyplot as plt\n",
        "import pandas as pd\n",
        "\n",
        "\n",
        "from sklearn.preprocessing import MinMaxScaler\n",
        "from sklearn.linear_model import LinearRegression\n",
        "from sklearn.linear_model import Ridge\n",
        "from sklearn.linear_model import Lasso\n",
        "from sklearn.linear_model import ElasticNet\n",
        "from sklearn.ensemble import BaggingRegressor\n",
        "from sklearn.ensemble import RandomForestRegressor\n",
        "from sklearn.ensemble import ExtraTreesRegressor\n",
        "from sklearn.tree import DecisionTreeRegressor\n",
        "from sklearn.neighbors import KNeighborsRegressor\n",
        "from sklearn.svm import SVR\n",
        "from sklearn.metrics import explained_variance_score\n",
        "from sklearn.metrics import mean_absolute_error\n",
        "\n",
        "\n",
        "\n",
        "from keras.models import Sequential\n",
        "from keras.layers import Dense\n",
        "from keras.layers import Dropout\n",
        "from keras.utils import np_utils\n",
        "from keras.constraints import maxnorm\n",
        "from sklearn.preprocessing import MinMaxScaler\n",
        "from sklearn.metrics import mean_squared_error\n",
        "from keras.wrappers.scikit_learn import KerasRegressor\n",
        "from sklearn.model_selection import cross_val_score\n",
        "from sklearn.model_selection import KFold\n",
        "from sklearn.preprocessing import StandardScaler\n",
        "\n",
        "seed = 8\n",
        "numpy.random.seed(seed)"
      ],
      "execution_count": 27,
      "outputs": []
    },
    {
      "cell_type": "code",
      "metadata": {
        "id": "--rCzD0MEkAH"
      },
      "source": [
        "salary=pd.read_csv('/content/SalaryDataTest(1).csv')\n",
        "salary=pd.read_csv('/content/SalaryDataTrain(1).csv')"
      ],
      "execution_count": 28,
      "outputs": []
    },
    {
      "cell_type": "code",
      "metadata": {
        "id": "l5yYJIPoFNzR"
      },
      "source": [
        "salary.drop([\"workclass\",\"education\",\"maritalstatus\",\"occupation\",\"relationship\",\"race\",\"sex\",\"native\",\"Salary\"],axis=1, inplace = True)"
      ],
      "execution_count": 29,
      "outputs": []
    },
    {
      "cell_type": "code",
      "metadata": {
        "colab": {
          "base_uri": "https://localhost:8080/",
          "height": 296
        },
        "id": "5H22WkKVF76o",
        "outputId": "98b86101-ea94-41c4-a5ee-1b4307fa5dd6"
      },
      "source": [
        "salary.value_counts()\n",
        "salary.isnull().sum()\n",
        "salary.describe()"
      ],
      "execution_count": 31,
      "outputs": [
        {
          "output_type": "execute_result",
          "data": {
            "text/html": [
              "<div>\n",
              "<style scoped>\n",
              "    .dataframe tbody tr th:only-of-type {\n",
              "        vertical-align: middle;\n",
              "    }\n",
              "\n",
              "    .dataframe tbody tr th {\n",
              "        vertical-align: top;\n",
              "    }\n",
              "\n",
              "    .dataframe thead th {\n",
              "        text-align: right;\n",
              "    }\n",
              "</style>\n",
              "<table border=\"1\" class=\"dataframe\">\n",
              "  <thead>\n",
              "    <tr style=\"text-align: right;\">\n",
              "      <th></th>\n",
              "      <th>age</th>\n",
              "      <th>educationno</th>\n",
              "      <th>capitalgain</th>\n",
              "      <th>capitalloss</th>\n",
              "      <th>hoursperweek</th>\n",
              "    </tr>\n",
              "  </thead>\n",
              "  <tbody>\n",
              "    <tr>\n",
              "      <th>count</th>\n",
              "      <td>30161.000000</td>\n",
              "      <td>30161.000000</td>\n",
              "      <td>30161.000000</td>\n",
              "      <td>30161.000000</td>\n",
              "      <td>30161.000000</td>\n",
              "    </tr>\n",
              "    <tr>\n",
              "      <th>mean</th>\n",
              "      <td>38.438115</td>\n",
              "      <td>10.121316</td>\n",
              "      <td>1092.044064</td>\n",
              "      <td>88.302311</td>\n",
              "      <td>40.931269</td>\n",
              "    </tr>\n",
              "    <tr>\n",
              "      <th>std</th>\n",
              "      <td>13.134830</td>\n",
              "      <td>2.550037</td>\n",
              "      <td>7406.466611</td>\n",
              "      <td>404.121321</td>\n",
              "      <td>11.980182</td>\n",
              "    </tr>\n",
              "    <tr>\n",
              "      <th>min</th>\n",
              "      <td>17.000000</td>\n",
              "      <td>1.000000</td>\n",
              "      <td>0.000000</td>\n",
              "      <td>0.000000</td>\n",
              "      <td>1.000000</td>\n",
              "    </tr>\n",
              "    <tr>\n",
              "      <th>25%</th>\n",
              "      <td>28.000000</td>\n",
              "      <td>9.000000</td>\n",
              "      <td>0.000000</td>\n",
              "      <td>0.000000</td>\n",
              "      <td>40.000000</td>\n",
              "    </tr>\n",
              "    <tr>\n",
              "      <th>50%</th>\n",
              "      <td>37.000000</td>\n",
              "      <td>10.000000</td>\n",
              "      <td>0.000000</td>\n",
              "      <td>0.000000</td>\n",
              "      <td>40.000000</td>\n",
              "    </tr>\n",
              "    <tr>\n",
              "      <th>75%</th>\n",
              "      <td>47.000000</td>\n",
              "      <td>13.000000</td>\n",
              "      <td>0.000000</td>\n",
              "      <td>0.000000</td>\n",
              "      <td>45.000000</td>\n",
              "    </tr>\n",
              "    <tr>\n",
              "      <th>max</th>\n",
              "      <td>90.000000</td>\n",
              "      <td>16.000000</td>\n",
              "      <td>99999.000000</td>\n",
              "      <td>4356.000000</td>\n",
              "      <td>99.000000</td>\n",
              "    </tr>\n",
              "  </tbody>\n",
              "</table>\n",
              "</div>"
            ],
            "text/plain": [
              "                age   educationno   capitalgain   capitalloss  hoursperweek\n",
              "count  30161.000000  30161.000000  30161.000000  30161.000000  30161.000000\n",
              "mean      38.438115     10.121316   1092.044064     88.302311     40.931269\n",
              "std       13.134830      2.550037   7406.466611    404.121321     11.980182\n",
              "min       17.000000      1.000000      0.000000      0.000000      1.000000\n",
              "25%       28.000000      9.000000      0.000000      0.000000     40.000000\n",
              "50%       37.000000     10.000000      0.000000      0.000000     40.000000\n",
              "75%       47.000000     13.000000      0.000000      0.000000     45.000000\n",
              "max       90.000000     16.000000  99999.000000   4356.000000     99.000000"
            ]
          },
          "metadata": {
            "tags": []
          },
          "execution_count": 31
        }
      ]
    },
    {
      "cell_type": "code",
      "metadata": {
        "colab": {
          "base_uri": "https://localhost:8080/"
        },
        "id": "Yhzbof5fGQ53",
        "outputId": "f709c1db-8f2b-4a02-fa85-957df5b7878a"
      },
      "source": [
        "print(\"Head:\", salary.head())"
      ],
      "execution_count": 32,
      "outputs": [
        {
          "output_type": "stream",
          "text": [
            "Head:    age  educationno  capitalgain  capitalloss  hoursperweek\n",
            "0   39           13         2174            0            40\n",
            "1   50           13            0            0            13\n",
            "2   38            9            0            0            40\n",
            "3   53            7            0            0            40\n",
            "4   28           13            0            0            40\n"
          ],
          "name": "stdout"
        }
      ]
    },
    {
      "cell_type": "code",
      "metadata": {
        "colab": {
          "base_uri": "https://localhost:8080/"
        },
        "id": "KXZvI65OGUzn",
        "outputId": "ee369e1c-732a-4dc6-f46f-564d2cfbd454"
      },
      "source": [
        "print(\"Statistical Description:\", salary.describe())"
      ],
      "execution_count": 33,
      "outputs": [
        {
          "output_type": "stream",
          "text": [
            "Statistical Description:                 age   educationno   capitalgain   capitalloss  hoursperweek\n",
            "count  30161.000000  30161.000000  30161.000000  30161.000000  30161.000000\n",
            "mean      38.438115     10.121316   1092.044064     88.302311     40.931269\n",
            "std       13.134830      2.550037   7406.466611    404.121321     11.980182\n",
            "min       17.000000      1.000000      0.000000      0.000000      1.000000\n",
            "25%       28.000000      9.000000      0.000000      0.000000     40.000000\n",
            "50%       37.000000     10.000000      0.000000      0.000000     40.000000\n",
            "75%       47.000000     13.000000      0.000000      0.000000     45.000000\n",
            "max       90.000000     16.000000  99999.000000   4356.000000     99.000000\n"
          ],
          "name": "stdout"
        }
      ]
    },
    {
      "cell_type": "code",
      "metadata": {
        "colab": {
          "base_uri": "https://localhost:8080/"
        },
        "id": "BxCf3cCmGb-v",
        "outputId": "e7fe7612-4463-4e94-d9bd-ff70e0b009f3"
      },
      "source": [
        "print(\"Shape:\", salary.shape)"
      ],
      "execution_count": 34,
      "outputs": [
        {
          "output_type": "stream",
          "text": [
            "Shape: (30161, 5)\n"
          ],
          "name": "stdout"
        }
      ]
    },
    {
      "cell_type": "code",
      "metadata": {
        "colab": {
          "base_uri": "https://localhost:8080/"
        },
        "id": "lFPeMvM1Gp5H",
        "outputId": "63295050-f744-4567-e631-432958613bbb"
      },
      "source": [
        "print(\"Data Types:\", salary.dtypes)"
      ],
      "execution_count": 35,
      "outputs": [
        {
          "output_type": "stream",
          "text": [
            "Data Types: age             int64\n",
            "educationno     int64\n",
            "capitalgain     int64\n",
            "capitalloss     int64\n",
            "hoursperweek    int64\n",
            "dtype: object\n"
          ],
          "name": "stdout"
        }
      ]
    },
    {
      "cell_type": "code",
      "metadata": {
        "colab": {
          "base_uri": "https://localhost:8080/"
        },
        "id": "0oZKGGcNGv9v",
        "outputId": "7e4c5f47-abaf-4e12-e4b4-51d0e41713b8"
      },
      "source": [
        "print(\"Correlation:\", salary.corr(method='pearson'))"
      ],
      "execution_count": 36,
      "outputs": [
        {
          "output_type": "stream",
          "text": [
            "Correlation:                    age  educationno  capitalgain  capitalloss  hoursperweek\n",
            "age           1.000000     0.043525     0.080152     0.060278      0.101598\n",
            "educationno   0.043525     1.000000     0.124416     0.079691      0.152522\n",
            "capitalgain   0.080152     0.124416     1.000000    -0.032218      0.080431\n",
            "capitalloss   0.060278     0.079691    -0.032218     1.000000      0.052454\n",
            "hoursperweek  0.101598     0.152522     0.080431     0.052454      1.000000\n"
          ],
          "name": "stdout"
        }
      ]
    },
    {
      "cell_type": "code",
      "metadata": {
        "id": "SQa7OK3BG13_"
      },
      "source": [
        "dataset = salary.values\n",
        "\n",
        "\n",
        "X = dataset[:,0:9]\n",
        "Y = dataset[:,2]"
      ],
      "execution_count": 37,
      "outputs": []
    },
    {
      "cell_type": "code",
      "metadata": {
        "colab": {
          "base_uri": "https://localhost:8080/"
        },
        "id": "Z0vsZmH4HO6J",
        "outputId": "ff324067-5693-4263-f41a-e92b8ff587e7"
      },
      "source": [
        "model = ExtraTreesRegressor()\n",
        "rfe = RFE(model, 3)\n",
        "fit = rfe.fit(X, Y)\n",
        "\n",
        "print(\"Number of Features: \", fit.n_features_)\n",
        "print(\"Selected Features: \", fit.support_)\n",
        "print(\"Feature Ranking: \", fit.ranking_) "
      ],
      "execution_count": 38,
      "outputs": [
        {
          "output_type": "stream",
          "text": [
            "Number of Features:  3\n",
            "Selected Features:  [ True  True  True False False]\n",
            "Feature Ranking:  [1 1 1 3 2]\n"
          ],
          "name": "stdout"
        }
      ]
    },
    {
      "cell_type": "code",
      "metadata": {
        "colab": {
          "base_uri": "https://localhost:8080/",
          "height": 336
        },
        "id": "3gXswQ99LPno",
        "outputId": "a8a41d5f-f0f3-49c3-b94b-f50e1f1caf89"
      },
      "source": [
        "plt.hist((salary.hoursperweek))"
      ],
      "execution_count": 39,
      "outputs": [
        {
          "output_type": "execute_result",
          "data": {
            "text/plain": [
              "(array([  511.,  1877.,  1995., 16581.,  3004.,  3736.,  1721.,   421.,\n",
              "          184.,   131.]),\n",
              " array([ 1. , 10.8, 20.6, 30.4, 40.2, 50. , 59.8, 69.6, 79.4, 89.2, 99. ]),\n",
              " <a list of 10 Patch objects>)"
            ]
          },
          "metadata": {
            "tags": []
          },
          "execution_count": 39
        },
        {
          "output_type": "display_data",
          "data": {
            "image/png": "[encoded data removed]",
            "text/plain": [
              "<Figure size 432x288 with 1 Axes>"
            ]
          },
          "metadata": {
            "tags": [],
            "needs_background": "light"
          }
        }
      ]
    },
    {
      "cell_type": "code",
      "metadata": {
        "colab": {
          "base_uri": "https://localhost:8080/",
          "height": 405
        },
        "id": "48D9Ehs7LZjK",
        "outputId": "a3ab86e7-0528-477e-daae-52a6e41109f9"
      },
      "source": [
        "salary.hist()"
      ],
      "execution_count": 40,
      "outputs": [
        {
          "output_type": "execute_result",
          "data": {
            "text/plain": [
              "array([[<matplotlib.axes._subplots.AxesSubplot object at 0x7f5f24a26050>,\n",
              "        <matplotlib.axes._subplots.AxesSubplot object at 0x7f5f245160d0>],\n",
              "       [<matplotlib.axes._subplots.AxesSubplot object at 0x7f5f244cb750>,\n",
              "        <matplotlib.axes._subplots.AxesSubplot object at 0x7f5f24480dd0>],\n",
              "       [<matplotlib.axes._subplots.AxesSubplot object at 0x7f5f24442490>,\n",
              "        <matplotlib.axes._subplots.AxesSubplot object at 0x7f5f243f9b10>]],\n",
              "      dtype=object)"
            ]
          },
          "metadata": {
            "tags": []
          },
          "execution_count": 40
        },
        {
          "output_type": "display_data",
          "data": {
            "image/png": "[encoded data removed]",
            "text/plain": [
              "<Figure size 432x288 with 6 Axes>"
            ]
          },
          "metadata": {
            "tags": [],
            "needs_background": "light"
          }
        }
      ]
    },
    {
      "cell_type": "code",
      "metadata": {
        "colab": {
          "base_uri": "https://localhost:8080/",
          "height": 1000
        },
        "id": "yXm1sLmuLqYP",
        "outputId": "ff070e30-7ec6-48cc-a87d-770bae44297b"
      },
      "source": [
        "salary.plot(kind='density', subplots=True, layout=(10,10), sharex=True, sharey=True)"
      ],
      "execution_count": 41,
      "outputs": [
        {
          "output_type": "execute_result",
          "data": {
            "text/plain": [
              "array([[<matplotlib.axes._subplots.AxesSubplot object at 0x7f5f2431d410>,\n",
              "        <matplotlib.axes._subplots.AxesSubplot object at 0x7f5f242d7910>,\n",
              "        <matplotlib.axes._subplots.AxesSubplot object at 0x7f5f2434b850>,\n",
              "        <matplotlib.axes._subplots.AxesSubplot object at 0x7f5f2423fad0>,\n",
              "        <matplotlib.axes._subplots.AxesSubplot object at 0x7f5f241f8bd0>,\n",
              "        <matplotlib.axes._subplots.AxesSubplot object at 0x7f5f241b2cd0>,\n",
              "        <matplotlib.axes._subplots.AxesSubplot object at 0x7f5f24173410>,\n",
              "        <matplotlib.axes._subplots.AxesSubplot object at 0x7f5f241a79d0>,\n",
              "        <matplotlib.axes._subplots.AxesSubplot object at 0x7f5f241a7a10>,\n",
              "        <matplotlib.axes._subplots.AxesSubplot object at 0x7f5f240ec1d0>],\n",
              "       [<matplotlib.axes._subplots.AxesSubplot object at 0x7f5f240d7dd0>,\n",
              "        <matplotlib.axes._subplots.AxesSubplot object at 0x7f5f24099490>,\n",
              "        <matplotlib.axes._subplots.AxesSubplot object at 0x7f5f2404eb10>,\n",
              "        <matplotlib.axes._subplots.AxesSubplot object at 0x7f5f240111d0>,\n",
              "        <matplotlib.axes._subplots.AxesSubplot object at 0x7f5f23fc7850>,\n",
              "        <matplotlib.axes._subplots.AxesSubplot object at 0x7f5f23f7ced0>,\n",
              "        <matplotlib.axes._subplots.AxesSubplot object at 0x7f5f23f3f590>,\n",
              "        <matplotlib.axes._subplots.AxesSubplot object at 0x7f5f23ef6c10>,\n",
              "        <matplotlib.axes._subplots.AxesSubplot object at 0x7f5f23eb92d0>,\n",
              "        <matplotlib.axes._subplots.AxesSubplot object at 0x7f5f23e6e950>],\n",
              "       [<matplotlib.axes._subplots.AxesSubplot object at 0x7f5f23e9aad0>,\n",
              "        <matplotlib.axes._subplots.AxesSubplot object at 0x7f5f23e67690>,\n",
              "        <matplotlib.axes._subplots.AxesSubplot object at 0x7f5f23e1dd10>,\n",
              "        <matplotlib.axes._subplots.AxesSubplot object at 0x7f5f23ddc710>,\n",
              "        <matplotlib.axes._subplots.AxesSubplot object at 0x7f5f23d92c90>,\n",
              "        <matplotlib.axes._subplots.AxesSubplot object at 0x7f5f23d54250>,\n",
              "        <matplotlib.axes._subplots.AxesSubplot object at 0x7f5f23d077d0>,\n",
              "        <matplotlib.axes._subplots.AxesSubplot object at 0x7f5f23cbed50>,\n",
              "        <matplotlib.axes._subplots.AxesSubplot object at 0x7f5f23c81310>,\n",
              "        <matplotlib.axes._subplots.AxesSubplot object at 0x7f5f23c35890>],\n",
              "       [<matplotlib.axes._subplots.AxesSubplot object at 0x7f5f23beae10>,\n",
              "        <matplotlib.axes._subplots.AxesSubplot object at 0x7f5f23baf3d0>,\n",
              "        <matplotlib.axes._subplots.AxesSubplot object at 0x7f5f23be5950>,\n",
              "        <matplotlib.axes._subplots.AxesSubplot object at 0x7f5f23b2f410>,\n",
              "        <matplotlib.axes._subplots.AxesSubplot object at 0x7f5f23b67b50>,\n",
              "        <matplotlib.axes._subplots.AxesSubplot object at 0x7f5f23ba8c10>,\n",
              "        <matplotlib.axes._subplots.AxesSubplot object at 0x7f5f23ade1d0>,\n",
              "        <matplotlib.axes._subplots.AxesSubplot object at 0x7f5f23a94750>,\n",
              "        <matplotlib.axes._subplots.AxesSubplot object at 0x7f5f23a4acd0>,\n",
              "        <matplotlib.axes._subplots.AxesSubplot object at 0x7f5f23a0b290>],\n",
              "       [<matplotlib.axes._subplots.AxesSubplot object at 0x7f5f239c2810>,\n",
              "        <matplotlib.axes._subplots.AxesSubplot object at 0x7f5f23976d90>,\n",
              "        <matplotlib.axes._subplots.AxesSubplot object at 0x7f5f2393b350>,\n",
              "        <matplotlib.axes._subplots.AxesSubplot object at 0x7f5f238f08d0>,\n",
              "        <matplotlib.axes._subplots.AxesSubplot object at 0x7f5f23925e50>,\n",
              "        <matplotlib.axes._subplots.AxesSubplot object at 0x7f5f23869410>,\n",
              "        <matplotlib.axes._subplots.AxesSubplot object at 0x7f5f2389c990>,\n",
              "        <matplotlib.axes._subplots.AxesSubplot object at 0x7f5f23853f10>,\n",
              "        <matplotlib.axes._subplots.AxesSubplot object at 0x7f5f238164d0>,\n",
              "        <matplotlib.axes._subplots.AxesSubplot object at 0x7f5f237c9a50>],\n",
              "       [<matplotlib.axes._subplots.AxesSubplot object at 0x7f5f23776ad0>,\n",
              "        <matplotlib.axes._subplots.AxesSubplot object at 0x7f5f23742590>,\n",
              "        <matplotlib.axes._subplots.AxesSubplot object at 0x7f5f236f6b10>,\n",
              "        <matplotlib.axes._subplots.AxesSubplot object at 0x7f5f236b6110>,\n",
              "        <matplotlib.axes._subplots.AxesSubplot object at 0x7f5f236e8690>,\n",
              "        <matplotlib.axes._subplots.AxesSubplot object at 0x7f5f2369ec10>,\n",
              "        <matplotlib.axes._subplots.AxesSubplot object at 0x7f5f244d89d0>,\n",
              "        <matplotlib.axes._subplots.AxesSubplot object at 0x7f5f242c62d0>,\n",
              "        <matplotlib.axes._subplots.AxesSubplot object at 0x7f5f24181250>,\n",
              "        <matplotlib.axes._subplots.AxesSubplot object at 0x7f5f24020210>],\n",
              "       [<matplotlib.axes._subplots.AxesSubplot object at 0x7f5f23e1d850>,\n",
              "        <matplotlib.axes._subplots.AxesSubplot object at 0x7f5f2355c890>,\n",
              "        <matplotlib.axes._subplots.AxesSubplot object at 0x7f5f23512f10>,\n",
              "        <matplotlib.axes._subplots.AxesSubplot object at 0x7f5f234d45d0>,\n",
              "        <matplotlib.axes._subplots.AxesSubplot object at 0x7f5f2348cc50>,\n",
              "        <matplotlib.axes._subplots.AxesSubplot object at 0x7f5f23450310>,\n",
              "        <matplotlib.axes._subplots.AxesSubplot object at 0x7f5f23402990>,\n",
              "        <matplotlib.axes._subplots.AxesSubplot object at 0x7f5f233bafd0>,\n",
              "        <matplotlib.axes._subplots.AxesSubplot object at 0x7f5f2337d6d0>,\n",
              "        <matplotlib.axes._subplots.AxesSubplot object at 0x7f5f23331d50>],\n",
              "       [<matplotlib.axes._subplots.AxesSubplot object at 0x7f5f232f4410>,\n",
              "        <matplotlib.axes._subplots.AxesSubplot object at 0x7f5f232aaa90>,\n",
              "        <matplotlib.axes._subplots.AxesSubplot object at 0x7f5f2326f150>,\n",
              "        <matplotlib.axes._subplots.AxesSubplot object at 0x7f5f232a47d0>,\n",
              "        <matplotlib.axes._subplots.AxesSubplot object at 0x7f5f2325be50>,\n",
              "        <matplotlib.axes._subplots.AxesSubplot object at 0x7f5f2321c510>,\n",
              "        <matplotlib.axes._subplots.AxesSubplot object at 0x7f5f231d2b90>,\n",
              "        <matplotlib.axes._subplots.AxesSubplot object at 0x7f5f23195250>,\n",
              "        <matplotlib.axes._subplots.AxesSubplot object at 0x7f5f2314a8d0>,\n",
              "        <matplotlib.axes._subplots.AxesSubplot object at 0x7f5f23101f50>],\n",
              "       [<matplotlib.axes._subplots.AxesSubplot object at 0x7f5f230c5610>,\n",
              "        <matplotlib.axes._subplots.AxesSubplot object at 0x7f5f23079c90>,\n",
              "        <matplotlib.axes._subplots.AxesSubplot object at 0x7f5f2303d350>,\n",
              "        <matplotlib.axes._subplots.AxesSubplot object at 0x7f5f22ff39d0>,\n",
              "        <matplotlib.axes._subplots.AxesSubplot object at 0x7f5f2301eb50>,\n",
              "        <matplotlib.axes._subplots.AxesSubplot object at 0x7f5f22f6b710>,\n",
              "        <matplotlib.axes._subplots.AxesSubplot object at 0x7f5f22fa4790>,\n",
              "        <matplotlib.axes._subplots.AxesSubplot object at 0x7f5f22f5bd10>,\n",
              "        <matplotlib.axes._subplots.AxesSubplot object at 0x7f5f22f202d0>,\n",
              "        <matplotlib.axes._subplots.AxesSubplot object at 0x7f5f22ed4850>],\n",
              "       [<matplotlib.axes._subplots.AxesSubplot object at 0x7f5f22e89dd0>,\n",
              "        <matplotlib.axes._subplots.AxesSubplot object at 0x7f5f22e4c390>,\n",
              "        <matplotlib.axes._subplots.AxesSubplot object at 0x7f5f22e00910>,\n",
              "        <matplotlib.axes._subplots.AxesSubplot object at 0x7f5f22db7e90>,\n",
              "        <matplotlib.axes._subplots.AxesSubplot object at 0x7f5f22d7b450>,\n",
              "        <matplotlib.axes._subplots.AxesSubplot object at 0x7f5f22d2f9d0>,\n",
              "        <matplotlib.axes._subplots.AxesSubplot object at 0x7f5f22d66f50>,\n",
              "        <matplotlib.axes._subplots.AxesSubplot object at 0x7f5f22d27510>,\n",
              "        <matplotlib.axes._subplots.AxesSubplot object at 0x7f5f22cdea90>,\n",
              "        <matplotlib.axes._subplots.AxesSubplot object at 0x7f5f22c94fd0>]],\n",
              "      dtype=object)"
            ]
          },
          "metadata": {
            "tags": []
          },
          "execution_count": 41
        },
        {
          "output_type": "display_data",
          "data": {
            "image/png": "[encoded data removed]",
            "text/plain": [
              "<Figure size 432x288 with 100 Axes>"
            ]
          },
          "metadata": {
            "tags": [],
            "needs_background": "light"
          }
        }
      ]
    },
    {
      "cell_type": "code",
      "metadata": {
        "colab": {
          "base_uri": "https://localhost:8080/",
          "height": 175
        },
        "id": "_d1wr2X8L8j_",
        "outputId": "7f2b731c-530d-4894-abcf-e9249e4a032d"
      },
      "source": [
        "salary.plot(kind='box', subplots=True, layout=(11,11), sharex=False, sharey=False)"
      ],
      "execution_count": 42,
      "outputs": [
        {
          "output_type": "execute_result",
          "data": {
            "text/plain": [
              "age               AxesSubplot(0.125,0.821923;0.0596154x0.0580769)\n",
              "educationno     AxesSubplot(0.196538,0.821923;0.0596154x0.0580...\n",
              "capitalgain     AxesSubplot(0.268077,0.821923;0.0596154x0.0580...\n",
              "capitalloss     AxesSubplot(0.339615,0.821923;0.0596154x0.0580...\n",
              "hoursperweek    AxesSubplot(0.411154,0.821923;0.0596154x0.0580...\n",
              "dtype: object"
            ]
          },
          "metadata": {
            "tags": []
          },
          "execution_count": 42
        },
        {
          "output_type": "display_data",
          "data": {
            "image/png": "[encoded data removed]",
            "text/plain": [
              "<Figure size 432x288 with 121 Axes>"
            ]
          },
          "metadata": {
            "tags": [],
            "needs_background": "light"
          }
        }
      ]
    },
    {
      "cell_type": "code",
      "metadata": {
        "colab": {
          "base_uri": "https://localhost:8080/",
          "height": 761
        },
        "id": "2NuOo1z0MQQw",
        "outputId": "4581ac0b-3b94-4f8e-ffed-81826c805360"
      },
      "source": [
        "pandas.plotting.scatter_matrix(salary)"
      ],
      "execution_count": 43,
      "outputs": [
        {
          "output_type": "execute_result",
          "data": {
            "text/plain": [
              "array([[<matplotlib.axes._subplots.AxesSubplot object at 0x7f5f16f90290>,\n",
              "        <matplotlib.axes._subplots.AxesSubplot object at 0x7f5f16f3fc10>,\n",
              "        <matplotlib.axes._subplots.AxesSubplot object at 0x7f5f16f032d0>,\n",
              "        <matplotlib.axes._subplots.AxesSubplot object at 0x7f5f16eb9950>,\n",
              "        <matplotlib.axes._subplots.AxesSubplot object at 0x7f5f16ee2ad0>],\n",
              "       [<matplotlib.axes._subplots.AxesSubplot object at 0x7f5f16e2d690>,\n",
              "        <matplotlib.axes._subplots.AxesSubplot object at 0x7f5f16e61d90>,\n",
              "        <matplotlib.axes._subplots.AxesSubplot object at 0x7f5f16e23390>,\n",
              "        <matplotlib.axes._subplots.AxesSubplot object at 0x7f5f16e233d0>,\n",
              "        <matplotlib.axes._subplots.AxesSubplot object at 0x7f5f16dd6b50>],\n",
              "       [<matplotlib.axes._subplots.AxesSubplot object at 0x7f5f16d4d790>,\n",
              "        <matplotlib.axes._subplots.AxesSubplot object at 0x7f5f16d03e10>,\n",
              "        <matplotlib.axes._subplots.AxesSubplot object at 0x7f5f16cc84d0>,\n",
              "        <matplotlib.axes._subplots.AxesSubplot object at 0x7f5f16c7eb50>,\n",
              "        <matplotlib.axes._subplots.AxesSubplot object at 0x7f5f16c40210>],\n",
              "       [<matplotlib.axes._subplots.AxesSubplot object at 0x7f5f16bf5890>,\n",
              "        <matplotlib.axes._subplots.AxesSubplot object at 0x7f5f16bba190>,\n",
              "        <matplotlib.axes._subplots.AxesSubplot object at 0x7f5f16b75650>,\n",
              "        <matplotlib.axes._subplots.AxesSubplot object at 0x7f5f16b2b850>,\n",
              "        <matplotlib.axes._subplots.AxesSubplot object at 0x7f5f16b62dd0>],\n",
              "       [<matplotlib.axes._subplots.AxesSubplot object at 0x7f5f16b24390>,\n",
              "        <matplotlib.axes._subplots.AxesSubplot object at 0x7f5f16ad8910>,\n",
              "        <matplotlib.axes._subplots.AxesSubplot object at 0x7f5f16a8fe90>,\n",
              "        <matplotlib.axes._subplots.AxesSubplot object at 0x7f5f16a51450>,\n",
              "        <matplotlib.axes._subplots.AxesSubplot object at 0x7f5f16a079d0>]],\n",
              "      dtype=object)"
            ]
          },
          "metadata": {
            "tags": []
          },
          "execution_count": 43
        },
        {
          "output_type": "display_data",
          "data": {
            "image/png": "[encoded data removed]",
            "text/plain": [
              "<Figure size 432x288 with 25 Axes>"
            ]
          },
          "metadata": {
            "tags": [],
            "needs_background": "light"
          }
        }
      ]
    },
    {
      "cell_type": "code",
      "metadata": {
        "colab": {
          "base_uri": "https://localhost:8080/",
          "height": 360
        },
        "id": "RtcKbfnmMWmO",
        "outputId": "3805fd52-69cf-43fa-9263-6f743e0ff54f"
      },
      "source": [
        "fig = plt.figure()\n",
        "ax = fig.add_subplot(111)\n",
        "cax = ax.matshow(salary.corr(), vmin=-1, vmax=1)\n",
        "fig.colorbar(cax)\n",
        "ticks = numpy.arange(0,13,1)\n",
        "ax.set_xticks(ticks)\n",
        "ax.set_yticks(ticks)\n",
        "ax.set_xticklabels(salary.columns)\n",
        "ax.set_yticklabels(salary.columns)"
      ],
      "execution_count": 47,
      "outputs": [
        {
          "output_type": "execute_result",
          "data": {
            "text/plain": [
              "[Text(0, 0, 'age'),\n",
              " Text(0, 0, 'educationno'),\n",
              " Text(0, 0, 'capitalgain'),\n",
              " Text(0, 0, 'capitalloss'),\n",
              " Text(0, 0, 'hoursperweek')]"
            ]
          },
          "metadata": {
            "tags": []
          },
          "execution_count": 47
        },
        {
          "output_type": "display_data",
          "data": {
            "image/png": "[encoded data removed]",
            "text/plain": [
              "<Figure size 432x288 with 2 Axes>"
            ]
          },
          "metadata": {
            "tags": [],
            "needs_background": "light"
          }
        }
      ]
    },
    {
      "cell_type": "code",
      "metadata": {
        "colab": {
          "base_uri": "https://localhost:8080/"
        },
        "id": "hs9hcz3mMk5H",
        "outputId": "8e12fc80-a75f-495e-b8f4-bf1bebb10c2d"
      },
      "source": [
        "num_instances = len(X)\n",
        "\n",
        "models = []\n",
        "models.append(('LiR', LinearRegression()))\n",
        "models.append(('Ridge', Ridge()))\n",
        "models.append(('Lasso', Lasso()))\n",
        "models.append(('ElasticNet', ElasticNet()))\n",
        "models.append(('Bag_Re', BaggingRegressor()))\n",
        "models.append(('RandomForest', RandomForestRegressor()))\n",
        "models.append(('ExtraTreesRegressor', ExtraTreesRegressor()))\n",
        "models.append(('KNN', KNeighborsRegressor()))\n",
        "models.append(('CART', DecisionTreeRegressor()))\n",
        "models.append(('SVM', SVR()))\n",
        "results = []\n",
        "names = []\n",
        "scoring = []\n",
        "\n",
        "for name, model in models:\n",
        "    \n",
        "    model.fit(X, Y)\n",
        "    \n",
        "    predictions = model.predict(X)\n",
        "    \n",
        "    \n",
        "    score = explained_variance_score(Y, predictions)\n",
        "    mae = mean_absolute_error(predictions, Y)\n",
        "    \n",
        "    results.append(mae)\n",
        "    names.append(name)\n",
        "    \n",
        "    msg = \"%s: %f (%f)\" % (name, score, mae)\n",
        "    print(msg)"
      ],
      "execution_count": 45,
      "outputs": [
        {
          "output_type": "stream",
          "text": [
            "LiR: 1.000000 (0.000000)\n",
            "Ridge: 1.000000 (0.000000)\n",
            "Lasso: 1.000000 (0.000036)\n",
            "ElasticNet: 1.000000 (0.000036)\n",
            "Bag_Re: 0.999978 (0.532154)\n",
            "RandomForest: 0.999995 (0.301411)\n",
            "ExtraTreesRegressor: 1.000000 (0.000000)\n",
            "KNN: 0.999963 (0.774245)\n",
            "CART: 1.000000 (0.000000)\n",
            "SVM: 0.057675 (961.962769)\n"
          ],
          "name": "stdout"
        }
      ]
    }
  ]
}