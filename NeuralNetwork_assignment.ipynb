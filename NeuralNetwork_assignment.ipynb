{
  "nbformat": 4,
  "nbformat_minor": 0,
  "metadata": {
    "colab": {
      "name": "NeuralNetwork_assignment.ipynb",
      "provenance": [],
      "collapsed_sections": []
    },
    "kernelspec": {
      "name": "python3",
      "display_name": "Python 3"
    },
    "language_info": {
      "name": "python"
    }
  },
  "cells": [
    {
      "cell_type": "code",
      "metadata": {
        "colab": {
          "base_uri": "https://localhost:8080/"
        },
        "id": "J1nrEgNFxL9w",
        "outputId": "33ecf9e9-9763-4ac0-bfca-44745d762d8f"
      },
      "source": [
        "!pip install tensorflow"
      ],
      "execution_count": 1,
      "outputs": [
        {
          "output_type": "stream",
          "text": [
            "Requirement already satisfied: tensorflow in /usr/local/lib/python3.7/dist-packages (2.5.0)\n",
            "Requirement already satisfied: termcolor~=1.1.0 in /usr/local/lib/python3.7/dist-packages (from tensorflow) (1.1.0)\n",
            "Requirement already satisfied: wheel~=0.35 in /usr/local/lib/python3.7/dist-packages (from tensorflow) (0.36.2)\n",
            "Requirement already satisfied: gast==0.4.0 in /usr/local/lib/python3.7/dist-packages (from tensorflow) (0.4.0)\n",
            "Requirement already satisfied: numpy~=1.19.2 in /usr/local/lib/python3.7/dist-packages (from tensorflow) (1.19.5)\n",
            "Requirement already satisfied: flatbuffers~=1.12.0 in /usr/local/lib/python3.7/dist-packages (from tensorflow) (1.12)\n",
            "Requirement already satisfied: google-pasta~=0.2 in /usr/local/lib/python3.7/dist-packages (from tensorflow) (0.2.0)\n",
            "Requirement already satisfied: tensorboard~=2.5 in /usr/local/lib/python3.7/dist-packages (from tensorflow) (2.5.0)\n",
            "Requirement already satisfied: grpcio~=1.34.0 in /usr/local/lib/python3.7/dist-packages (from tensorflow) (1.34.1)\n",
            "Requirement already satisfied: astunparse~=1.6.3 in /usr/local/lib/python3.7/dist-packages (from tensorflow) (1.6.3)\n",
            "Requirement already satisfied: keras-nightly~=2.5.0.dev in /usr/local/lib/python3.7/dist-packages (from tensorflow) (2.5.0.dev2021032900)\n",
            "Requirement already satisfied: six~=1.15.0 in /usr/local/lib/python3.7/dist-packages (from tensorflow) (1.15.0)\n",
            "Requirement already satisfied: protobuf>=3.9.2 in /usr/local/lib/python3.7/dist-packages (from tensorflow) (3.12.4)\n",
            "Requirement already satisfied: tensorflow-estimator<2.6.0,>=2.5.0rc0 in /usr/local/lib/python3.7/dist-packages (from tensorflow) (2.5.0)\n",
            "Requirement already satisfied: opt-einsum~=3.3.0 in /usr/local/lib/python3.7/dist-packages (from tensorflow) (3.3.0)\n",
            "Requirement already satisfied: wrapt~=1.12.1 in /usr/local/lib/python3.7/dist-packages (from tensorflow) (1.12.1)\n",
            "Requirement already satisfied: typing-extensions~=3.7.4 in /usr/local/lib/python3.7/dist-packages (from tensorflow) (3.7.4.3)\n",
            "Requirement already satisfied: h5py~=3.1.0 in /usr/local/lib/python3.7/dist-packages (from tensorflow) (3.1.0)\n",
            "Requirement already satisfied: keras-preprocessing~=1.1.2 in /usr/local/lib/python3.7/dist-packages (from tensorflow) (1.1.2)\n",
            "Requirement already satisfied: absl-py~=0.10 in /usr/local/lib/python3.7/dist-packages (from tensorflow) (0.12.0)\n",
            "Requirement already satisfied: werkzeug>=0.11.15 in /usr/local/lib/python3.7/dist-packages (from tensorboard~=2.5->tensorflow) (1.0.1)\n",
            "Requirement already satisfied: google-auth<2,>=1.6.3 in /usr/local/lib/python3.7/dist-packages (from tensorboard~=2.5->tensorflow) (1.31.0)\n",
            "Requirement already satisfied: markdown>=2.6.8 in /usr/local/lib/python3.7/dist-packages (from tensorboard~=2.5->tensorflow) (3.3.4)\n",
            "Requirement already satisfied: setuptools>=41.0.0 in /usr/local/lib/python3.7/dist-packages (from tensorboard~=2.5->tensorflow) (57.0.0)\n",
            "Requirement already satisfied: tensorboard-plugin-wit>=1.6.0 in /usr/local/lib/python3.7/dist-packages (from tensorboard~=2.5->tensorflow) (1.8.0)\n",
            "Requirement already satisfied: requests<3,>=2.21.0 in /usr/local/lib/python3.7/dist-packages (from tensorboard~=2.5->tensorflow) (2.23.0)\n",
            "Requirement already satisfied: google-auth-oauthlib<0.5,>=0.4.1 in /usr/local/lib/python3.7/dist-packages (from tensorboard~=2.5->tensorflow) (0.4.4)\n",
            "Requirement already satisfied: tensorboard-data-server<0.7.0,>=0.6.0 in /usr/local/lib/python3.7/dist-packages (from tensorboard~=2.5->tensorflow) (0.6.1)\n",
            "Requirement already satisfied: cached-property; python_version < \"3.8\" in /usr/local/lib/python3.7/dist-packages (from h5py~=3.1.0->tensorflow) (1.5.2)\n",
            "Requirement already satisfied: cachetools<5.0,>=2.0.0 in /usr/local/lib/python3.7/dist-packages (from google-auth<2,>=1.6.3->tensorboard~=2.5->tensorflow) (4.2.2)\n",
            "Requirement already satisfied: rsa<5,>=3.1.4; python_version >= \"3.6\" in /usr/local/lib/python3.7/dist-packages (from google-auth<2,>=1.6.3->tensorboard~=2.5->tensorflow) (4.7.2)\n",
            "Requirement already satisfied: pyasn1-modules>=0.2.1 in /usr/local/lib/python3.7/dist-packages (from google-auth<2,>=1.6.3->tensorboard~=2.5->tensorflow) (0.2.8)\n",
            "Requirement already satisfied: importlib-metadata; python_version < \"3.8\" in /usr/local/lib/python3.7/dist-packages (from markdown>=2.6.8->tensorboard~=2.5->tensorflow) (4.5.0)\n",
            "Requirement already satisfied: certifi>=2017.4.17 in /usr/local/lib/python3.7/dist-packages (from requests<3,>=2.21.0->tensorboard~=2.5->tensorflow) (2021.5.30)\n",
            "Requirement already satisfied: urllib3!=1.25.0,!=1.25.1,<1.26,>=1.21.1 in /usr/local/lib/python3.7/dist-packages (from requests<3,>=2.21.0->tensorboard~=2.5->tensorflow) (1.24.3)\n",
            "Requirement already satisfied: idna<3,>=2.5 in /usr/local/lib/python3.7/dist-packages (from requests<3,>=2.21.0->tensorboard~=2.5->tensorflow) (2.10)\n",
            "Requirement already satisfied: chardet<4,>=3.0.2 in /usr/local/lib/python3.7/dist-packages (from requests<3,>=2.21.0->tensorboard~=2.5->tensorflow) (3.0.4)\n",
            "Requirement already satisfied: requests-oauthlib>=0.7.0 in /usr/local/lib/python3.7/dist-packages (from google-auth-oauthlib<0.5,>=0.4.1->tensorboard~=2.5->tensorflow) (1.3.0)\n",
            "Requirement already satisfied: pyasn1>=0.1.3 in /usr/local/lib/python3.7/dist-packages (from rsa<5,>=3.1.4; python_version >= \"3.6\"->google-auth<2,>=1.6.3->tensorboard~=2.5->tensorflow) (0.4.8)\n",
            "Requirement already satisfied: zipp>=0.5 in /usr/local/lib/python3.7/dist-packages (from importlib-metadata; python_version < \"3.8\"->markdown>=2.6.8->tensorboard~=2.5->tensorflow) (3.4.1)\n",
            "Requirement already satisfied: oauthlib>=3.0.0 in /usr/local/lib/python3.7/dist-packages (from requests-oauthlib>=0.7.0->google-auth-oauthlib<0.5,>=0.4.1->tensorboard~=2.5->tensorflow) (3.1.1)\n"
          ],
          "name": "stdout"
        }
      ]
    },
    {
      "cell_type": "code",
      "metadata": {
        "colab": {
          "base_uri": "https://localhost:8080/"
        },
        "id": "2OMrvjDngjPq",
        "outputId": "44b904e9-9615-428b-dbf7-979149ab195a"
      },
      "source": [
        "!pip install keras"
      ],
      "execution_count": 2,
      "outputs": [
        {
          "output_type": "stream",
          "text": [
            "Requirement already satisfied: keras in /usr/local/lib/python3.7/dist-packages (2.4.3)\n",
            "Requirement already satisfied: scipy>=0.14 in /usr/local/lib/python3.7/dist-packages (from keras) (1.4.1)\n",
            "Requirement already satisfied: h5py in /usr/local/lib/python3.7/dist-packages (from keras) (3.1.0)\n",
            "Requirement already satisfied: numpy>=1.9.1 in /usr/local/lib/python3.7/dist-packages (from keras) (1.19.5)\n",
            "Requirement already satisfied: pyyaml in /usr/local/lib/python3.7/dist-packages (from keras) (3.13)\n",
            "Requirement already satisfied: cached-property; python_version < \"3.8\" in /usr/local/lib/python3.7/dist-packages (from h5py->keras) (1.5.2)\n"
          ],
          "name": "stdout"
        }
      ]
    },
    {
      "cell_type": "markdown",
      "metadata": {
        "id": "6nap6s_NoJnz"
      },
      "source": [
        "## **Forestfires**"
      ]
    },
    {
      "cell_type": "code",
      "metadata": {
        "id": "y8TI6RXUgunm"
      },
      "source": [
        "from keras.models import Sequential\n",
        "from keras.layers import Dense,Activation,Layer,Lambda\n",
        "import numpy as np\n",
        "import pandas as pd\n"
      ],
      "execution_count": 4,
      "outputs": []
    },
    {
      "cell_type": "code",
      "metadata": {
        "id": "cfceiPbnilyu"
      },
      "source": [
        "forestfires=pd.read_csv('/content/forestfires.csv')"
      ],
      "execution_count": 5,
      "outputs": []
    },
    {
      "cell_type": "code",
      "metadata": {
        "id": "etcnFk_RkkPy"
      },
      "source": [
        "forestfires.drop([\"month\",\"day\"],axis=1,inplace = True)"
      ],
      "execution_count": 6,
      "outputs": []
    },
    {
      "cell_type": "code",
      "metadata": {
        "colab": {
          "base_uri": "https://localhost:8080/",
          "height": 316
        },
        "id": "Uur8C4wAkqnF",
        "outputId": "8c823184-34f0-4b7e-de96-af719f61fb74"
      },
      "source": [
        "forestfires[\"size_category\"].value_counts()\n",
        "forestfires.isnull().sum()\n",
        "forestfires.describe()"
      ],
      "execution_count": 18,
      "outputs": [
        {
          "output_type": "execute_result",
          "data": {
            "text/html": [
              "<div>\n",
              "<style scoped>\n",
              "    .dataframe tbody tr th:only-of-type {\n",
              "        vertical-align: middle;\n",
              "    }\n",
              "\n",
              "    .dataframe tbody tr th {\n",
              "        vertical-align: top;\n",
              "    }\n",
              "\n",
              "    .dataframe thead th {\n",
              "        text-align: right;\n",
              "    }\n",
              "</style>\n",
              "<table border=\"1\" class=\"dataframe\">\n",
              "  <thead>\n",
              "    <tr style=\"text-align: right;\">\n",
              "      <th></th>\n",
              "      <th>FFMC</th>\n",
              "      <th>DMC</th>\n",
              "      <th>DC</th>\n",
              "      <th>ISI</th>\n",
              "      <th>temp</th>\n",
              "      <th>RH</th>\n",
              "      <th>wind</th>\n",
              "      <th>rain</th>\n",
              "      <th>area</th>\n",
              "      <th>dayfri</th>\n",
              "      <th>daymon</th>\n",
              "      <th>daysat</th>\n",
              "      <th>daysun</th>\n",
              "      <th>daythu</th>\n",
              "      <th>daytue</th>\n",
              "      <th>daywed</th>\n",
              "      <th>monthapr</th>\n",
              "      <th>monthaug</th>\n",
              "      <th>monthdec</th>\n",
              "      <th>monthfeb</th>\n",
              "      <th>monthjan</th>\n",
              "      <th>monthjul</th>\n",
              "      <th>monthjun</th>\n",
              "      <th>monthmar</th>\n",
              "      <th>monthmay</th>\n",
              "      <th>monthnov</th>\n",
              "      <th>monthoct</th>\n",
              "      <th>monthsep</th>\n",
              "    </tr>\n",
              "  </thead>\n",
              "  <tbody>\n",
              "    <tr>\n",
              "      <th>count</th>\n",
              "      <td>517.000000</td>\n",
              "      <td>517.000000</td>\n",
              "      <td>517.000000</td>\n",
              "      <td>517.000000</td>\n",
              "      <td>517.000000</td>\n",
              "      <td>517.000000</td>\n",
              "      <td>517.000000</td>\n",
              "      <td>517.000000</td>\n",
              "      <td>517.000000</td>\n",
              "      <td>517.000000</td>\n",
              "      <td>517.000000</td>\n",
              "      <td>517.000000</td>\n",
              "      <td>517.000000</td>\n",
              "      <td>517.000000</td>\n",
              "      <td>517.000000</td>\n",
              "      <td>517.000000</td>\n",
              "      <td>517.000000</td>\n",
              "      <td>517.000000</td>\n",
              "      <td>517.000000</td>\n",
              "      <td>517.000000</td>\n",
              "      <td>517.000000</td>\n",
              "      <td>517.000000</td>\n",
              "      <td>517.000000</td>\n",
              "      <td>517.000000</td>\n",
              "      <td>517.000000</td>\n",
              "      <td>517.000000</td>\n",
              "      <td>517.000000</td>\n",
              "      <td>517.000000</td>\n",
              "    </tr>\n",
              "    <tr>\n",
              "      <th>mean</th>\n",
              "      <td>90.644681</td>\n",
              "      <td>110.872340</td>\n",
              "      <td>547.940039</td>\n",
              "      <td>9.021663</td>\n",
              "      <td>18.889168</td>\n",
              "      <td>44.288201</td>\n",
              "      <td>4.017602</td>\n",
              "      <td>0.021663</td>\n",
              "      <td>12.847292</td>\n",
              "      <td>0.164410</td>\n",
              "      <td>0.143133</td>\n",
              "      <td>0.162476</td>\n",
              "      <td>0.183752</td>\n",
              "      <td>0.117988</td>\n",
              "      <td>0.123791</td>\n",
              "      <td>0.104449</td>\n",
              "      <td>0.017408</td>\n",
              "      <td>0.355899</td>\n",
              "      <td>0.017408</td>\n",
              "      <td>0.038685</td>\n",
              "      <td>0.003868</td>\n",
              "      <td>0.061896</td>\n",
              "      <td>0.032882</td>\n",
              "      <td>0.104449</td>\n",
              "      <td>0.003868</td>\n",
              "      <td>0.001934</td>\n",
              "      <td>0.029014</td>\n",
              "      <td>0.332689</td>\n",
              "    </tr>\n",
              "    <tr>\n",
              "      <th>std</th>\n",
              "      <td>5.520111</td>\n",
              "      <td>64.046482</td>\n",
              "      <td>248.066192</td>\n",
              "      <td>4.559477</td>\n",
              "      <td>5.806625</td>\n",
              "      <td>16.317469</td>\n",
              "      <td>1.791653</td>\n",
              "      <td>0.295959</td>\n",
              "      <td>63.655818</td>\n",
              "      <td>0.371006</td>\n",
              "      <td>0.350548</td>\n",
              "      <td>0.369244</td>\n",
              "      <td>0.387657</td>\n",
              "      <td>0.322907</td>\n",
              "      <td>0.329662</td>\n",
              "      <td>0.306138</td>\n",
              "      <td>0.130913</td>\n",
              "      <td>0.479249</td>\n",
              "      <td>0.130913</td>\n",
              "      <td>0.193029</td>\n",
              "      <td>0.062137</td>\n",
              "      <td>0.241199</td>\n",
              "      <td>0.178500</td>\n",
              "      <td>0.306138</td>\n",
              "      <td>0.062137</td>\n",
              "      <td>0.043980</td>\n",
              "      <td>0.168007</td>\n",
              "      <td>0.471632</td>\n",
              "    </tr>\n",
              "    <tr>\n",
              "      <th>min</th>\n",
              "      <td>18.700000</td>\n",
              "      <td>1.100000</td>\n",
              "      <td>7.900000</td>\n",
              "      <td>0.000000</td>\n",
              "      <td>2.200000</td>\n",
              "      <td>15.000000</td>\n",
              "      <td>0.400000</td>\n",
              "      <td>0.000000</td>\n",
              "      <td>0.000000</td>\n",
              "      <td>0.000000</td>\n",
              "      <td>0.000000</td>\n",
              "      <td>0.000000</td>\n",
              "      <td>0.000000</td>\n",
              "      <td>0.000000</td>\n",
              "      <td>0.000000</td>\n",
              "      <td>0.000000</td>\n",
              "      <td>0.000000</td>\n",
              "      <td>0.000000</td>\n",
              "      <td>0.000000</td>\n",
              "      <td>0.000000</td>\n",
              "      <td>0.000000</td>\n",
              "      <td>0.000000</td>\n",
              "      <td>0.000000</td>\n",
              "      <td>0.000000</td>\n",
              "      <td>0.000000</td>\n",
              "      <td>0.000000</td>\n",
              "      <td>0.000000</td>\n",
              "      <td>0.000000</td>\n",
              "    </tr>\n",
              "    <tr>\n",
              "      <th>25%</th>\n",
              "      <td>90.200000</td>\n",
              "      <td>68.600000</td>\n",
              "      <td>437.700000</td>\n",
              "      <td>6.500000</td>\n",
              "      <td>15.500000</td>\n",
              "      <td>33.000000</td>\n",
              "      <td>2.700000</td>\n",
              "      <td>0.000000</td>\n",
              "      <td>0.000000</td>\n",
              "      <td>0.000000</td>\n",
              "      <td>0.000000</td>\n",
              "      <td>0.000000</td>\n",
              "      <td>0.000000</td>\n",
              "      <td>0.000000</td>\n",
              "      <td>0.000000</td>\n",
              "      <td>0.000000</td>\n",
              "      <td>0.000000</td>\n",
              "      <td>0.000000</td>\n",
              "      <td>0.000000</td>\n",
              "      <td>0.000000</td>\n",
              "      <td>0.000000</td>\n",
              "      <td>0.000000</td>\n",
              "      <td>0.000000</td>\n",
              "      <td>0.000000</td>\n",
              "      <td>0.000000</td>\n",
              "      <td>0.000000</td>\n",
              "      <td>0.000000</td>\n",
              "      <td>0.000000</td>\n",
              "    </tr>\n",
              "    <tr>\n",
              "      <th>50%</th>\n",
              "      <td>91.600000</td>\n",
              "      <td>108.300000</td>\n",
              "      <td>664.200000</td>\n",
              "      <td>8.400000</td>\n",
              "      <td>19.300000</td>\n",
              "      <td>42.000000</td>\n",
              "      <td>4.000000</td>\n",
              "      <td>0.000000</td>\n",
              "      <td>0.520000</td>\n",
              "      <td>0.000000</td>\n",
              "      <td>0.000000</td>\n",
              "      <td>0.000000</td>\n",
              "      <td>0.000000</td>\n",
              "      <td>0.000000</td>\n",
              "      <td>0.000000</td>\n",
              "      <td>0.000000</td>\n",
              "      <td>0.000000</td>\n",
              "      <td>0.000000</td>\n",
              "      <td>0.000000</td>\n",
              "      <td>0.000000</td>\n",
              "      <td>0.000000</td>\n",
              "      <td>0.000000</td>\n",
              "      <td>0.000000</td>\n",
              "      <td>0.000000</td>\n",
              "      <td>0.000000</td>\n",
              "      <td>0.000000</td>\n",
              "      <td>0.000000</td>\n",
              "      <td>0.000000</td>\n",
              "    </tr>\n",
              "    <tr>\n",
              "      <th>75%</th>\n",
              "      <td>92.900000</td>\n",
              "      <td>142.400000</td>\n",
              "      <td>713.900000</td>\n",
              "      <td>10.800000</td>\n",
              "      <td>22.800000</td>\n",
              "      <td>53.000000</td>\n",
              "      <td>4.900000</td>\n",
              "      <td>0.000000</td>\n",
              "      <td>6.570000</td>\n",
              "      <td>0.000000</td>\n",
              "      <td>0.000000</td>\n",
              "      <td>0.000000</td>\n",
              "      <td>0.000000</td>\n",
              "      <td>0.000000</td>\n",
              "      <td>0.000000</td>\n",
              "      <td>0.000000</td>\n",
              "      <td>0.000000</td>\n",
              "      <td>1.000000</td>\n",
              "      <td>0.000000</td>\n",
              "      <td>0.000000</td>\n",
              "      <td>0.000000</td>\n",
              "      <td>0.000000</td>\n",
              "      <td>0.000000</td>\n",
              "      <td>0.000000</td>\n",
              "      <td>0.000000</td>\n",
              "      <td>0.000000</td>\n",
              "      <td>0.000000</td>\n",
              "      <td>1.000000</td>\n",
              "    </tr>\n",
              "    <tr>\n",
              "      <th>max</th>\n",
              "      <td>96.200000</td>\n",
              "      <td>291.300000</td>\n",
              "      <td>860.600000</td>\n",
              "      <td>56.100000</td>\n",
              "      <td>33.300000</td>\n",
              "      <td>100.000000</td>\n",
              "      <td>9.400000</td>\n",
              "      <td>6.400000</td>\n",
              "      <td>1090.840000</td>\n",
              "      <td>1.000000</td>\n",
              "      <td>1.000000</td>\n",
              "      <td>1.000000</td>\n",
              "      <td>1.000000</td>\n",
              "      <td>1.000000</td>\n",
              "      <td>1.000000</td>\n",
              "      <td>1.000000</td>\n",
              "      <td>1.000000</td>\n",
              "      <td>1.000000</td>\n",
              "      <td>1.000000</td>\n",
              "      <td>1.000000</td>\n",
              "      <td>1.000000</td>\n",
              "      <td>1.000000</td>\n",
              "      <td>1.000000</td>\n",
              "      <td>1.000000</td>\n",
              "      <td>1.000000</td>\n",
              "      <td>1.000000</td>\n",
              "      <td>1.000000</td>\n",
              "      <td>1.000000</td>\n",
              "    </tr>\n",
              "  </tbody>\n",
              "</table>\n",
              "</div>"
            ],
            "text/plain": [
              "             FFMC         DMC          DC  ...    monthnov    monthoct    monthsep\n",
              "count  517.000000  517.000000  517.000000  ...  517.000000  517.000000  517.000000\n",
              "mean    90.644681  110.872340  547.940039  ...    0.001934    0.029014    0.332689\n",
              "std      5.520111   64.046482  248.066192  ...    0.043980    0.168007    0.471632\n",
              "min     18.700000    1.100000    7.900000  ...    0.000000    0.000000    0.000000\n",
              "25%     90.200000   68.600000  437.700000  ...    0.000000    0.000000    0.000000\n",
              "50%     91.600000  108.300000  664.200000  ...    0.000000    0.000000    0.000000\n",
              "75%     92.900000  142.400000  713.900000  ...    0.000000    0.000000    1.000000\n",
              "max     96.200000  291.300000  860.600000  ...    1.000000    1.000000    1.000000\n",
              "\n",
              "[8 rows x 28 columns]"
            ]
          },
          "metadata": {
            "tags": []
          },
          "execution_count": 18
        }
      ]
    },
    {
      "cell_type": "code",
      "metadata": {
        "colab": {
          "base_uri": "https://localhost:8080/"
        },
        "id": "2A1hWaYgkwXQ",
        "outputId": "d29e890e-859e-4278-b7b5-754f89b2402f"
      },
      "source": [
        "forestfires.loc[forestfires[\"size_category\"]=='small','size_category']=0\n",
        "forestfires.loc[forestfires[\"size_category\"]=='large','size_category']=1\n",
        "forestfires[\"size_category\"].value_counts()"
      ],
      "execution_count": 8,
      "outputs": [
        {
          "output_type": "execute_result",
          "data": {
            "text/plain": [
              "0    378\n",
              "1    139\n",
              "Name: size_category, dtype: int64"
            ]
          },
          "metadata": {
            "tags": []
          },
          "execution_count": 8
        }
      ]
    },
    {
      "cell_type": "code",
      "metadata": {
        "id": "yXoL3BIrk2TV"
      },
      "source": [
        "def norm_func(i):\n",
        "     x = (i-i.min())\t/\t(i.max()\t-\ti.min())\n",
        "     return (x)"
      ],
      "execution_count": 16,
      "outputs": []
    },
    {
      "cell_type": "code",
      "metadata": {
        "id": "fayHtTqzk7C4"
      },
      "source": [
        "predictors = forestfires.iloc[:,0:28]\n",
        "target = forestfires.iloc[:,28]\n"
      ],
      "execution_count": 17,
      "outputs": []
    },
    {
      "cell_type": "code",
      "metadata": {
        "id": "QsjfQ5qJk_Jb"
      },
      "source": [
        "predictors1 = norm_func(predictors)\n",
        "#data = pd.concat([predictors1,target],axis=1)\n"
      ],
      "execution_count": 11,
      "outputs": []
    },
    {
      "cell_type": "code",
      "metadata": {
        "id": "QyewdaJclFan"
      },
      "source": [
        "from sklearn.model_selection import train_test_split\n",
        "x_train,x_test,y_train,y_test= train_test_split(predictors1,target, test_size=0.3,stratify = target)"
      ],
      "execution_count": 12,
      "outputs": []
    },
    {
      "cell_type": "code",
      "metadata": {
        "id": "RUEFoIhwlK4O"
      },
      "source": [
        "def prep_model(hidden_dim):\n",
        "    model = Sequential()\n",
        "    for i in range(1,len(hidden_dim)-1):\n",
        "        if (i==1):\n",
        "            model.add(Dense(hidden_dim[i],input_dim=hidden_dim[0],activation=\"relu\"))\n",
        "        else:\n",
        "            model.add(Dense(hidden_dim[i],activation=\"relu\"))\n",
        "    model.add(Dense(hidden_dim[-1],kernel_initializer=\"normal\",activation=\"sigmoid\"))\n",
        "    model.compile(loss=\"binary_crossentropy\",optimizer = \"rmsprop\",metrics = [\"accuracy\"])\n",
        "    return model  \n"
      ],
      "execution_count": 13,
      "outputs": []
    },
    {
      "cell_type": "code",
      "metadata": {
        "id": "TGC1XVzml9nT"
      },
      "source": [
        "first_model = prep_model([28,50,40,20,1])\n",
        "pred_train = first_model.predict(np.array(x_train))\n",
        "\n"
      ],
      "execution_count": 23,
      "outputs": []
    },
    {
      "cell_type": "code",
      "metadata": {
        "id": "e3YuGJV4l1Ay"
      },
      "source": [
        "pred_train = pd.Series([i[0] for i in pred_train])"
      ],
      "execution_count": 15,
      "outputs": []
    },
    {
      "cell_type": "code",
      "metadata": {
        "id": "ouoL2ZNMmDUl"
      },
      "source": [
        "size = [\"small\",\"large\"]\n",
        "pred_train_class = pd.Series([\"small\"]*361)\n",
        "pred_train_class[[i>0.5 for i in pred_train]]= \"large\""
      ],
      "execution_count": null,
      "outputs": []
    },
    {
      "cell_type": "code",
      "metadata": {
        "colab": {
          "base_uri": "https://localhost:8080/"
        },
        "id": "revRo3GrmJxh",
        "outputId": "54c987d0-c61b-4201-d0be-7e98e82cb7ab"
      },
      "source": [
        "train = pd.concat([x_train,y_train],axis=1)\n",
        "train[\"size_category\"].value_counts()\n"
      ],
      "execution_count": null,
      "outputs": [
        {
          "output_type": "execute_result",
          "data": {
            "text/plain": [
              "0    264\n",
              "1     97\n",
              "Name: size_category, dtype: int64"
            ]
          },
          "metadata": {
            "tags": []
          },
          "execution_count": 17
        }
      ]
    },
    {
      "cell_type": "code",
      "metadata": {
        "colab": {
          "base_uri": "https://localhost:8080/",
          "height": 111
        },
        "id": "7z_sGOPMmO50",
        "outputId": "b430c575-eb94-47f8-9e13-a404fbca8d58"
      },
      "source": [
        "from sklearn.metrics import confusion_matrix\n",
        "train[\"original_class\"] = \"small\"\n",
        "train.loc[train[\"size_category\"]==1,\"original_class\"] = \"large\"\n",
        "train.original_class.value_counts()\n",
        "confusion_matrix(pred_train_class,train[\"original_class\"])\n",
        "np.mean(pred_train_class==pd.Series(train[\"original_class\"]).reset_index(drop=True)) #100%\n",
        "pd.crosstab(pred_train_class,pd.Series(train[\"original_class\"]).reset_index(drop=True))\n"
      ],
      "execution_count": null,
      "outputs": [
        {
          "output_type": "execute_result",
          "data": {
            "text/html": [
              "<div>\n",
              "<style scoped>\n",
              "    .dataframe tbody tr th:only-of-type {\n",
              "        vertical-align: middle;\n",
              "    }\n",
              "\n",
              "    .dataframe tbody tr th {\n",
              "        vertical-align: top;\n",
              "    }\n",
              "\n",
              "    .dataframe thead th {\n",
              "        text-align: right;\n",
              "    }\n",
              "</style>\n",
              "<table border=\"1\" class=\"dataframe\">\n",
              "  <thead>\n",
              "    <tr style=\"text-align: right;\">\n",
              "      <th>original_class</th>\n",
              "      <th>large</th>\n",
              "      <th>small</th>\n",
              "    </tr>\n",
              "    <tr>\n",
              "      <th>row_0</th>\n",
              "      <th></th>\n",
              "      <th></th>\n",
              "    </tr>\n",
              "  </thead>\n",
              "  <tbody>\n",
              "    <tr>\n",
              "      <th>large</th>\n",
              "      <td>97</td>\n",
              "      <td>264</td>\n",
              "    </tr>\n",
              "  </tbody>\n",
              "</table>\n",
              "</div>"
            ],
            "text/plain": [
              "original_class  large  small\n",
              "row_0                       \n",
              "large              97    264"
            ]
          },
          "metadata": {
            "tags": []
          },
          "execution_count": 18
        }
      ]
    },
    {
      "cell_type": "code",
      "metadata": {
        "colab": {
          "base_uri": "https://localhost:8080/",
          "height": 111
        },
        "id": "f1mXsO96mUsE",
        "outputId": "e41d7836-565f-415b-d358-7fb74e3ab3d9"
      },
      "source": [
        "pred_test = first_model.predict(np.array(x_test))\n",
        "pred_test = pd.Series([i[0] for i in pred_test])\n",
        "pred_test_class = pd.Series([\"small\"]*156)\n",
        "pred_test_class[[i>0.5 for i in pred_test]] = \"large\"\n",
        "test =pd.concat([x_test,y_test],axis=1)\n",
        "test[\"original_class\"]=\"small\"\n",
        "test.loc[test[\"size_category\"]==1,\"original_class\"] = \"large\"\n",
        "\n",
        "test[\"original_class\"].value_counts()\n",
        "np.mean(pred_test_class==pd.Series(test[\"original_class\"]).reset_index(drop=True)) # 85%\n",
        "confusion_matrix(pred_test_class,test[\"original_class\"])\n",
        "pd.crosstab(pred_test_class,pd.Series(test[\"original_class\"]).reset_index(drop=True))\n"
      ],
      "execution_count": null,
      "outputs": [
        {
          "output_type": "execute_result",
          "data": {
            "text/html": [
              "<div>\n",
              "<style scoped>\n",
              "    .dataframe tbody tr th:only-of-type {\n",
              "        vertical-align: middle;\n",
              "    }\n",
              "\n",
              "    .dataframe tbody tr th {\n",
              "        vertical-align: top;\n",
              "    }\n",
              "\n",
              "    .dataframe thead th {\n",
              "        text-align: right;\n",
              "    }\n",
              "</style>\n",
              "<table border=\"1\" class=\"dataframe\">\n",
              "  <thead>\n",
              "    <tr style=\"text-align: right;\">\n",
              "      <th>original_class</th>\n",
              "      <th>large</th>\n",
              "      <th>small</th>\n",
              "    </tr>\n",
              "    <tr>\n",
              "      <th>row_0</th>\n",
              "      <th></th>\n",
              "      <th></th>\n",
              "    </tr>\n",
              "  </thead>\n",
              "  <tbody>\n",
              "    <tr>\n",
              "      <th>large</th>\n",
              "      <td>42</td>\n",
              "      <td>114</td>\n",
              "    </tr>\n",
              "  </tbody>\n",
              "</table>\n",
              "</div>"
            ],
            "text/plain": [
              "original_class  large  small\n",
              "row_0                       \n",
              "large              42    114"
            ]
          },
          "metadata": {
            "tags": []
          },
          "execution_count": 19
        }
      ]
    },
    {
      "cell_type": "markdown",
      "metadata": {
        "id": "QgqTeHs-oX-I"
      },
      "source": [
        "# **Gasturbines**"
      ]
    },
    {
      "cell_type": "code",
      "metadata": {
        "id": "cougmyato-zX"
      },
      "source": [
        "from keras.models import Sequential\n",
        "from keras.layers import Dense,Activation,Layer,Lambda\n",
        "import numpy as np\n",
        "import pandas as pd\n"
      ],
      "execution_count": 64,
      "outputs": []
    },
    {
      "cell_type": "code",
      "metadata": {
        "id": "kxEII84byQVi"
      },
      "source": [
        "gasturbines=pd.read_csv('/content/gas_turbines.csv')"
      ],
      "execution_count": 65,
      "outputs": []
    },
    {
      "cell_type": "code",
      "metadata": {
        "colab": {
          "base_uri": "https://localhost:8080/",
          "height": 204
        },
        "id": "kjA5790GzC-r",
        "outputId": "c821811c-2469-4f9c-f848-06e383fcbb4b"
      },
      "source": [
        "gasturbines.head()"
      ],
      "execution_count": 21,
      "outputs": [
        {
          "output_type": "execute_result",
          "data": {
            "text/html": [
              "<div>\n",
              "<style scoped>\n",
              "    .dataframe tbody tr th:only-of-type {\n",
              "        vertical-align: middle;\n",
              "    }\n",
              "\n",
              "    .dataframe tbody tr th {\n",
              "        vertical-align: top;\n",
              "    }\n",
              "\n",
              "    .dataframe thead th {\n",
              "        text-align: right;\n",
              "    }\n",
              "</style>\n",
              "<table border=\"1\" class=\"dataframe\">\n",
              "  <thead>\n",
              "    <tr style=\"text-align: right;\">\n",
              "      <th></th>\n",
              "      <th>AT</th>\n",
              "      <th>AP</th>\n",
              "      <th>AH</th>\n",
              "      <th>AFDP</th>\n",
              "      <th>GTEP</th>\n",
              "      <th>TIT</th>\n",
              "      <th>TAT</th>\n",
              "      <th>TEY</th>\n",
              "      <th>CDP</th>\n",
              "      <th>CO</th>\n",
              "      <th>NOX</th>\n",
              "    </tr>\n",
              "  </thead>\n",
              "  <tbody>\n",
              "    <tr>\n",
              "      <th>0</th>\n",
              "      <td>6.8594</td>\n",
              "      <td>1007.9</td>\n",
              "      <td>96.799</td>\n",
              "      <td>3.5000</td>\n",
              "      <td>19.663</td>\n",
              "      <td>1059.2</td>\n",
              "      <td>550.00</td>\n",
              "      <td>114.70</td>\n",
              "      <td>10.605</td>\n",
              "      <td>3.1547</td>\n",
              "      <td>82.722</td>\n",
              "    </tr>\n",
              "    <tr>\n",
              "      <th>1</th>\n",
              "      <td>6.7850</td>\n",
              "      <td>1008.4</td>\n",
              "      <td>97.118</td>\n",
              "      <td>3.4998</td>\n",
              "      <td>19.728</td>\n",
              "      <td>1059.3</td>\n",
              "      <td>550.00</td>\n",
              "      <td>114.72</td>\n",
              "      <td>10.598</td>\n",
              "      <td>3.2363</td>\n",
              "      <td>82.776</td>\n",
              "    </tr>\n",
              "    <tr>\n",
              "      <th>2</th>\n",
              "      <td>6.8977</td>\n",
              "      <td>1008.8</td>\n",
              "      <td>95.939</td>\n",
              "      <td>3.4824</td>\n",
              "      <td>19.779</td>\n",
              "      <td>1059.4</td>\n",
              "      <td>549.87</td>\n",
              "      <td>114.71</td>\n",
              "      <td>10.601</td>\n",
              "      <td>3.2012</td>\n",
              "      <td>82.468</td>\n",
              "    </tr>\n",
              "    <tr>\n",
              "      <th>3</th>\n",
              "      <td>7.0569</td>\n",
              "      <td>1009.2</td>\n",
              "      <td>95.249</td>\n",
              "      <td>3.4805</td>\n",
              "      <td>19.792</td>\n",
              "      <td>1059.6</td>\n",
              "      <td>549.99</td>\n",
              "      <td>114.72</td>\n",
              "      <td>10.606</td>\n",
              "      <td>3.1923</td>\n",
              "      <td>82.670</td>\n",
              "    </tr>\n",
              "    <tr>\n",
              "      <th>4</th>\n",
              "      <td>7.3978</td>\n",
              "      <td>1009.7</td>\n",
              "      <td>95.150</td>\n",
              "      <td>3.4976</td>\n",
              "      <td>19.765</td>\n",
              "      <td>1059.7</td>\n",
              "      <td>549.98</td>\n",
              "      <td>114.72</td>\n",
              "      <td>10.612</td>\n",
              "      <td>3.2484</td>\n",
              "      <td>82.311</td>\n",
              "    </tr>\n",
              "  </tbody>\n",
              "</table>\n",
              "</div>"
            ],
            "text/plain": [
              "       AT      AP      AH    AFDP  ...     TEY     CDP      CO     NOX\n",
              "0  6.8594  1007.9  96.799  3.5000  ...  114.70  10.605  3.1547  82.722\n",
              "1  6.7850  1008.4  97.118  3.4998  ...  114.72  10.598  3.2363  82.776\n",
              "2  6.8977  1008.8  95.939  3.4824  ...  114.71  10.601  3.2012  82.468\n",
              "3  7.0569  1009.2  95.249  3.4805  ...  114.72  10.606  3.1923  82.670\n",
              "4  7.3978  1009.7  95.150  3.4976  ...  114.72  10.612  3.2484  82.311\n",
              "\n",
              "[5 rows x 11 columns]"
            ]
          },
          "metadata": {
            "tags": []
          },
          "execution_count": 21
        }
      ]
    },
    {
      "cell_type": "code",
      "metadata": {
        "colab": {
          "base_uri": "https://localhost:8080/",
          "height": 296
        },
        "id": "lYdNIkSvxNyC",
        "outputId": "f5ac472b-5329-4e79-edb0-17215d53be2c"
      },
      "source": [
        "gasturbines.isnull().sum()\n",
        "gasturbines.describe()"
      ],
      "execution_count": 22,
      "outputs": [
        {
          "output_type": "execute_result",
          "data": {
            "text/html": [
              "<div>\n",
              "<style scoped>\n",
              "    .dataframe tbody tr th:only-of-type {\n",
              "        vertical-align: middle;\n",
              "    }\n",
              "\n",
              "    .dataframe tbody tr th {\n",
              "        vertical-align: top;\n",
              "    }\n",
              "\n",
              "    .dataframe thead th {\n",
              "        text-align: right;\n",
              "    }\n",
              "</style>\n",
              "<table border=\"1\" class=\"dataframe\">\n",
              "  <thead>\n",
              "    <tr style=\"text-align: right;\">\n",
              "      <th></th>\n",
              "      <th>AT</th>\n",
              "      <th>AP</th>\n",
              "      <th>AH</th>\n",
              "      <th>AFDP</th>\n",
              "      <th>GTEP</th>\n",
              "      <th>TIT</th>\n",
              "      <th>TAT</th>\n",
              "      <th>TEY</th>\n",
              "      <th>CDP</th>\n",
              "      <th>CO</th>\n",
              "      <th>NOX</th>\n",
              "    </tr>\n",
              "  </thead>\n",
              "  <tbody>\n",
              "    <tr>\n",
              "      <th>count</th>\n",
              "      <td>15039.000000</td>\n",
              "      <td>15039.00000</td>\n",
              "      <td>15039.000000</td>\n",
              "      <td>15039.000000</td>\n",
              "      <td>15039.000000</td>\n",
              "      <td>15039.000000</td>\n",
              "      <td>15039.000000</td>\n",
              "      <td>15039.000000</td>\n",
              "      <td>15039.000000</td>\n",
              "      <td>15039.000000</td>\n",
              "      <td>15039.000000</td>\n",
              "    </tr>\n",
              "    <tr>\n",
              "      <th>mean</th>\n",
              "      <td>17.764381</td>\n",
              "      <td>1013.19924</td>\n",
              "      <td>79.124174</td>\n",
              "      <td>4.200294</td>\n",
              "      <td>25.419061</td>\n",
              "      <td>1083.798770</td>\n",
              "      <td>545.396183</td>\n",
              "      <td>134.188464</td>\n",
              "      <td>12.102353</td>\n",
              "      <td>1.972499</td>\n",
              "      <td>68.190934</td>\n",
              "    </tr>\n",
              "    <tr>\n",
              "      <th>std</th>\n",
              "      <td>7.574323</td>\n",
              "      <td>6.41076</td>\n",
              "      <td>13.793439</td>\n",
              "      <td>0.760197</td>\n",
              "      <td>4.173916</td>\n",
              "      <td>16.527806</td>\n",
              "      <td>7.866803</td>\n",
              "      <td>15.829717</td>\n",
              "      <td>1.103196</td>\n",
              "      <td>2.222206</td>\n",
              "      <td>10.470586</td>\n",
              "    </tr>\n",
              "    <tr>\n",
              "      <th>min</th>\n",
              "      <td>0.522300</td>\n",
              "      <td>985.85000</td>\n",
              "      <td>30.344000</td>\n",
              "      <td>2.087400</td>\n",
              "      <td>17.878000</td>\n",
              "      <td>1000.800000</td>\n",
              "      <td>512.450000</td>\n",
              "      <td>100.170000</td>\n",
              "      <td>9.904400</td>\n",
              "      <td>0.000388</td>\n",
              "      <td>27.765000</td>\n",
              "    </tr>\n",
              "    <tr>\n",
              "      <th>25%</th>\n",
              "      <td>11.408000</td>\n",
              "      <td>1008.90000</td>\n",
              "      <td>69.750000</td>\n",
              "      <td>3.723900</td>\n",
              "      <td>23.294000</td>\n",
              "      <td>1079.600000</td>\n",
              "      <td>542.170000</td>\n",
              "      <td>127.985000</td>\n",
              "      <td>11.622000</td>\n",
              "      <td>0.858055</td>\n",
              "      <td>61.303500</td>\n",
              "    </tr>\n",
              "    <tr>\n",
              "      <th>50%</th>\n",
              "      <td>18.186000</td>\n",
              "      <td>1012.80000</td>\n",
              "      <td>82.266000</td>\n",
              "      <td>4.186200</td>\n",
              "      <td>25.082000</td>\n",
              "      <td>1088.700000</td>\n",
              "      <td>549.890000</td>\n",
              "      <td>133.780000</td>\n",
              "      <td>12.025000</td>\n",
              "      <td>1.390200</td>\n",
              "      <td>66.601000</td>\n",
              "    </tr>\n",
              "    <tr>\n",
              "      <th>75%</th>\n",
              "      <td>23.862500</td>\n",
              "      <td>1016.90000</td>\n",
              "      <td>90.043500</td>\n",
              "      <td>4.550900</td>\n",
              "      <td>27.184000</td>\n",
              "      <td>1096.000000</td>\n",
              "      <td>550.060000</td>\n",
              "      <td>140.895000</td>\n",
              "      <td>12.578000</td>\n",
              "      <td>2.160400</td>\n",
              "      <td>73.935500</td>\n",
              "    </tr>\n",
              "    <tr>\n",
              "      <th>max</th>\n",
              "      <td>34.929000</td>\n",
              "      <td>1034.20000</td>\n",
              "      <td>100.200000</td>\n",
              "      <td>7.610600</td>\n",
              "      <td>37.402000</td>\n",
              "      <td>1100.800000</td>\n",
              "      <td>550.610000</td>\n",
              "      <td>174.610000</td>\n",
              "      <td>15.081000</td>\n",
              "      <td>44.103000</td>\n",
              "      <td>119.890000</td>\n",
              "    </tr>\n",
              "  </tbody>\n",
              "</table>\n",
              "</div>"
            ],
            "text/plain": [
              "                 AT           AP  ...            CO           NOX\n",
              "count  15039.000000  15039.00000  ...  15039.000000  15039.000000\n",
              "mean      17.764381   1013.19924  ...      1.972499     68.190934\n",
              "std        7.574323      6.41076  ...      2.222206     10.470586\n",
              "min        0.522300    985.85000  ...      0.000388     27.765000\n",
              "25%       11.408000   1008.90000  ...      0.858055     61.303500\n",
              "50%       18.186000   1012.80000  ...      1.390200     66.601000\n",
              "75%       23.862500   1016.90000  ...      2.160400     73.935500\n",
              "max       34.929000   1034.20000  ...     44.103000    119.890000\n",
              "\n",
              "[8 rows x 11 columns]"
            ]
          },
          "metadata": {
            "tags": []
          },
          "execution_count": 22
        }
      ]
    },
    {
      "cell_type": "code",
      "metadata": {
        "colab": {
          "base_uri": "https://localhost:8080/"
        },
        "id": "PuCCYupF7lHx",
        "outputId": "7cfe7e8c-36cc-40d9-d3d5-efbb3dd7233a"
      },
      "source": [
        "gasturbines.shape"
      ],
      "execution_count": 36,
      "outputs": [
        {
          "output_type": "execute_result",
          "data": {
            "text/plain": [
              "(15039, 11)"
            ]
          },
          "metadata": {
            "tags": []
          },
          "execution_count": 36
        }
      ]
    },
    {
      "cell_type": "code",
      "metadata": {
        "colab": {
          "base_uri": "https://localhost:8080/",
          "height": 512
        },
        "id": "KmN_n84B62IA",
        "outputId": "ff45c55c-e325-409a-8d13-2abe5d6c7d8f"
      },
      "source": [
        "gasturbines.hist()\n"
      ],
      "execution_count": 34,
      "outputs": [
        {
          "output_type": "execute_result",
          "data": {
            "text/plain": [
              "array([[<matplotlib.axes._subplots.AxesSubplot object at 0x7fd3cc12b1d0>,\n",
              "        <matplotlib.axes._subplots.AxesSubplot object at 0x7fd3cc12b490>,\n",
              "        <matplotlib.axes._subplots.AxesSubplot object at 0x7fd3cc63edd0>],\n",
              "       [<matplotlib.axes._subplots.AxesSubplot object at 0x7fd3cc965850>,\n",
              "        <matplotlib.axes._subplots.AxesSubplot object at 0x7fd3ccb01190>,\n",
              "        <matplotlib.axes._subplots.AxesSubplot object at 0x7fd3cc8b3990>],\n",
              "       [<matplotlib.axes._subplots.AxesSubplot object at 0x7fd3cd3f0810>,\n",
              "        <matplotlib.axes._subplots.AxesSubplot object at 0x7fd3cc2ead90>,\n",
              "        <matplotlib.axes._subplots.AxesSubplot object at 0x7fd3cc2eadd0>],\n",
              "       [<matplotlib.axes._subplots.AxesSubplot object at 0x7fd3cc4ad590>,\n",
              "        <matplotlib.axes._subplots.AxesSubplot object at 0x7fd3cc5cc1d0>,\n",
              "        <matplotlib.axes._subplots.AxesSubplot object at 0x7fd3cc4bd850>]],\n",
              "      dtype=object)"
            ]
          },
          "metadata": {
            "tags": []
          },
          "execution_count": 34
        },
        {
          "output_type": "display_data",
          "data": {
            "image/png": "[encoded data removed]",
            "text/plain": [
              "<Figure size 432x288 with 12 Axes>"
            ]
          },
          "metadata": {
            "tags": [],
            "needs_background": "light"
          }
        }
      ]
    },
    {
      "cell_type": "code",
      "metadata": {
        "id": "l7Rk4agm7_W5"
      },
      "source": [
        "%matplotlib inline\n",
        "import matplotlib.pyplot as plt\n",
        "plt.style.use('seaborn-whitegrid')\n",
        "import numpy as np"
      ],
      "execution_count": 37,
      "outputs": []
    },
    {
      "cell_type": "code",
      "metadata": {
        "colab": {
          "base_uri": "https://localhost:8080/",
          "height": 262
        },
        "id": "DEFPDeyj_C8r",
        "outputId": "fb8fbc9a-e24c-443c-be5d-e54fb085379f"
      },
      "source": [
        "plt.scatter(x, y);"
      ],
      "execution_count": 48,
      "outputs": [
        {
          "output_type": "display_data",
          "data": {
            "image/png": "[encoded data removed]",
            "text/plain": [
              "<Figure size 432x288 with 1 Axes>"
            ]
          },
          "metadata": {
            "tags": []
          }
        }
      ]
    },
    {
      "cell_type": "code",
      "metadata": {
        "colab": {
          "base_uri": "https://localhost:8080/",
          "height": 262
        },
        "id": "obvWC-AO_Y6g",
        "outputId": "8b232c81-e255-47bf-8704-b95fd44988a6"
      },
      "source": [
        "rng = np.random.RandomState(0)\n",
        "x = rng.randn(100)\n",
        "y = rng.randn(100)\n",
        "colors = rng.rand(100)\n",
        "sizes = 1000 * rng.rand(100)\n",
        "\n",
        "plt.scatter(x, y, c=colors, s=sizes, alpha=0.5,\n",
        "            cmap='magma')\n",
        "plt.colorbar();"
      ],
      "execution_count": 50,
      "outputs": [
        {
          "output_type": "display_data",
          "data": {
            "image/png": "[encoded data removed]",
            "text/plain": [
              "<Figure size 432x288 with 2 Axes>"
            ]
          },
          "metadata": {
            "tags": []
          }
        }
      ]
    },
    {
      "cell_type": "code",
      "metadata": {
        "colab": {
          "base_uri": "https://localhost:8080/",
          "height": 1000
        },
        "id": "mjxE5mEf_pjg",
        "outputId": "0e13487b-20db-40d6-f40d-b6b1dc2e6aa9"
      },
      "source": [
        "gasturbines.plot(kind='density', subplots=True, layout=(10,10), sharex=True, sharey=False)"
      ],
      "execution_count": 51,
      "outputs": [
        {
          "output_type": "execute_result",
          "data": {
            "text/plain": [
              "array([[<matplotlib.axes._subplots.AxesSubplot object at 0x7fd3ccb30ed0>,\n",
              "        <matplotlib.axes._subplots.AxesSubplot object at 0x7fd3c9a52490>,\n",
              "        <matplotlib.axes._subplots.AxesSubplot object at 0x7fd3c95af750>,\n",
              "        <matplotlib.axes._subplots.AxesSubplot object at 0x7fd3d154b1d0>,\n",
              "        <matplotlib.axes._subplots.AxesSubplot object at 0x7fd3c95edfd0>,\n",
              "        <matplotlib.axes._subplots.AxesSubplot object at 0x7fd3cd475950>,\n",
              "        <matplotlib.axes._subplots.AxesSubplot object at 0x7fd3c93a5850>,\n",
              "        <matplotlib.axes._subplots.AxesSubplot object at 0x7fd3c9400b50>,\n",
              "        <matplotlib.axes._subplots.AxesSubplot object at 0x7fd3c9400b90>,\n",
              "        <matplotlib.axes._subplots.AxesSubplot object at 0x7fd3c951e090>],\n",
              "       [<matplotlib.axes._subplots.AxesSubplot object at 0x7fd3c9042710>,\n",
              "        <matplotlib.axes._subplots.AxesSubplot object at 0x7fd3c8ffaad0>,\n",
              "        <matplotlib.axes._subplots.AxesSubplot object at 0x7fd3c8fbb190>,\n",
              "        <matplotlib.axes._subplots.AxesSubplot object at 0x7fd3c8f71810>,\n",
              "        <matplotlib.axes._subplots.AxesSubplot object at 0x7fd3c8fa8e90>,\n",
              "        <matplotlib.axes._subplots.AxesSubplot object at 0x7fd3c8f6a550>,\n",
              "        <matplotlib.axes._subplots.AxesSubplot object at 0x7fd3c8f1ebd0>,\n",
              "        <matplotlib.axes._subplots.AxesSubplot object at 0x7fd3c8ee1290>,\n",
              "        <matplotlib.axes._subplots.AxesSubplot object at 0x7fd3c8e96910>,\n",
              "        <matplotlib.axes._subplots.AxesSubplot object at 0x7fd3c8e4cf90>],\n",
              "       [<matplotlib.axes._subplots.AxesSubplot object at 0x7fd3c8e10650>,\n",
              "        <matplotlib.axes._subplots.AxesSubplot object at 0x7fd3c8dc9690>,\n",
              "        <matplotlib.axes._subplots.AxesSubplot object at 0x7fd3c8d7ec10>,\n",
              "        <matplotlib.axes._subplots.AxesSubplot object at 0x7fd3c8d411d0>,\n",
              "        <matplotlib.axes._subplots.AxesSubplot object at 0x7fd3c8cf6750>,\n",
              "        <matplotlib.axes._subplots.AxesSubplot object at 0x7fd3c8d2ccd0>,\n",
              "        <matplotlib.axes._subplots.AxesSubplot object at 0x7fd3c8cee290>,\n",
              "        <matplotlib.axes._subplots.AxesSubplot object at 0x7fd3c8ca3810>,\n",
              "        <matplotlib.axes._subplots.AxesSubplot object at 0x7fd3c8c59d90>,\n",
              "        <matplotlib.axes._subplots.AxesSubplot object at 0x7fd3c8c1b350>],\n",
              "       [<matplotlib.axes._subplots.AxesSubplot object at 0x7fd3c8bcf8d0>,\n",
              "        <matplotlib.axes._subplots.AxesSubplot object at 0x7fd3c8b84e50>,\n",
              "        <matplotlib.axes._subplots.AxesSubplot object at 0x7fd3c8b48410>,\n",
              "        <matplotlib.axes._subplots.AxesSubplot object at 0x7fd3c8afe990>,\n",
              "        <matplotlib.axes._subplots.AxesSubplot object at 0x7fd3c8ab1f10>,\n",
              "        <matplotlib.axes._subplots.AxesSubplot object at 0x7fd3c8a744d0>,\n",
              "        <matplotlib.axes._subplots.AxesSubplot object at 0x7fd3c8aaaa50>,\n",
              "        <matplotlib.axes._subplots.AxesSubplot object at 0x7fd3c8a56ad0>,\n",
              "        <matplotlib.axes._subplots.AxesSubplot object at 0x7fd3c8a22590>,\n",
              "        <matplotlib.axes._subplots.AxesSubplot object at 0x7fd3c89d6b10>],\n",
              "       [<matplotlib.axes._subplots.AxesSubplot object at 0x7fd3c89990d0>,\n",
              "        <matplotlib.axes._subplots.AxesSubplot object at 0x7fd3c894e650>,\n",
              "        <matplotlib.axes._subplots.AxesSubplot object at 0x7fd3c8903bd0>,\n",
              "        <matplotlib.axes._subplots.AxesSubplot object at 0x7fd3c88c6190>,\n",
              "        <matplotlib.axes._subplots.AxesSubplot object at 0x7fd3c887b710>,\n",
              "        <matplotlib.axes._subplots.AxesSubplot object at 0x7fd3c8831c90>,\n",
              "        <matplotlib.axes._subplots.AxesSubplot object at 0x7fd3c87f3250>,\n",
              "        <matplotlib.axes._subplots.AxesSubplot object at 0x7fd3c88297d0>,\n",
              "        <matplotlib.axes._subplots.AxesSubplot object at 0x7fd3c87ded50>,\n",
              "        <matplotlib.axes._subplots.AxesSubplot object at 0x7fd3c879f310>],\n",
              "       [<matplotlib.axes._subplots.AxesSubplot object at 0x7fd3c8757890>,\n",
              "        <matplotlib.axes._subplots.AxesSubplot object at 0x7fd3c870de10>,\n",
              "        <matplotlib.axes._subplots.AxesSubplot object at 0x7fd3cca99110>,\n",
              "        <matplotlib.axes._subplots.AxesSubplot object at 0x7fd3c9096390>,\n",
              "        <matplotlib.axes._subplots.AxesSubplot object at 0x7fd3c8eb2b50>,\n",
              "        <matplotlib.axes._subplots.AxesSubplot object at 0x7fd3cc338550>,\n",
              "        <matplotlib.axes._subplots.AxesSubplot object at 0x7fd3c94e5250>,\n",
              "        <matplotlib.axes._subplots.AxesSubplot object at 0x7fd3c930e9d0>,\n",
              "        <matplotlib.axes._subplots.AxesSubplot object at 0x7fd3c9344c50>,\n",
              "        <matplotlib.axes._subplots.AxesSubplot object at 0x7fd3c93d37d0>],\n",
              "       [<matplotlib.axes._subplots.AxesSubplot object at 0x7fd3cc6e27d0>,\n",
              "        <matplotlib.axes._subplots.AxesSubplot object at 0x7fd3cc99b110>,\n",
              "        <matplotlib.axes._subplots.AxesSubplot object at 0x7fd3c94d7790>,\n",
              "        <matplotlib.axes._subplots.AxesSubplot object at 0x7fd3c86676d0>,\n",
              "        <matplotlib.axes._subplots.AxesSubplot object at 0x7fd3c861dd50>,\n",
              "        <matplotlib.axes._subplots.AxesSubplot object at 0x7fd3c85e0410>,\n",
              "        <matplotlib.axes._subplots.AxesSubplot object at 0x7fd3c8592a90>,\n",
              "        <matplotlib.axes._subplots.AxesSubplot object at 0x7fd3c8554150>,\n",
              "        <matplotlib.axes._subplots.AxesSubplot object at 0x7fd3c850a7d0>,\n",
              "        <matplotlib.axes._subplots.AxesSubplot object at 0x7fd3c84bfe50>],\n",
              "       [<matplotlib.axes._subplots.AxesSubplot object at 0x7fd3c847f510>,\n",
              "        <matplotlib.axes._subplots.AxesSubplot object at 0x7fd3c8437b90>,\n",
              "        <matplotlib.axes._subplots.AxesSubplot object at 0x7fd3c83fa250>,\n",
              "        <matplotlib.axes._subplots.AxesSubplot object at 0x7fd3c842f8d0>,\n",
              "        <matplotlib.axes._subplots.AxesSubplot object at 0x7fd3c83e6f50>,\n",
              "        <matplotlib.axes._subplots.AxesSubplot object at 0x7fd3c83a7610>,\n",
              "        <matplotlib.axes._subplots.AxesSubplot object at 0x7fd3c835cc90>,\n",
              "        <matplotlib.axes._subplots.AxesSubplot object at 0x7fd3c831f350>,\n",
              "        <matplotlib.axes._subplots.AxesSubplot object at 0x7fd3c82d49d0>,\n",
              "        <matplotlib.axes._subplots.AxesSubplot object at 0x7fd3c8282b50>],\n",
              "       [<matplotlib.axes._subplots.AxesSubplot object at 0x7fd3c824f710>,\n",
              "        <matplotlib.axes._subplots.AxesSubplot object at 0x7fd3c8204d90>,\n",
              "        <matplotlib.axes._subplots.AxesSubplot object at 0x7fd3c81bfe10>,\n",
              "        <matplotlib.axes._subplots.AxesSubplot object at 0x7fd3c81803d0>,\n",
              "        <matplotlib.axes._subplots.AxesSubplot object at 0x7fd3c8137950>,\n",
              "        <matplotlib.axes._subplots.AxesSubplot object at 0x7fd3c816ded0>,\n",
              "        <matplotlib.axes._subplots.AxesSubplot object at 0x7fd3c80b0490>,\n",
              "        <matplotlib.axes._subplots.AxesSubplot object at 0x7fd3c80e5a10>,\n",
              "        <matplotlib.axes._subplots.AxesSubplot object at 0x7fd3c809cf90>,\n",
              "        <matplotlib.axes._subplots.AxesSubplot object at 0x7fd3c805e550>],\n",
              "       [<matplotlib.axes._subplots.AxesSubplot object at 0x7fd3c8011ad0>,\n",
              "        <matplotlib.axes._subplots.AxesSubplot object at 0x7fd3c7fbdb50>,\n",
              "        <matplotlib.axes._subplots.AxesSubplot object at 0x7fd3c7f8b610>,\n",
              "        <matplotlib.axes._subplots.AxesSubplot object at 0x7fd3c7f41b90>,\n",
              "        <matplotlib.axes._subplots.AxesSubplot object at 0x7fd3c7f02150>,\n",
              "        <matplotlib.axes._subplots.AxesSubplot object at 0x7fd3c7eba6d0>,\n",
              "        <matplotlib.axes._subplots.AxesSubplot object at 0x7fd3c7eeec50>,\n",
              "        <matplotlib.axes._subplots.AxesSubplot object at 0x7fd3c7e32210>,\n",
              "        <matplotlib.axes._subplots.AxesSubplot object at 0x7fd3c7e67790>,\n",
              "        <matplotlib.axes._subplots.AxesSubplot object at 0x7fd3c7e1bd10>]],\n",
              "      dtype=object)"
            ]
          },
          "metadata": {
            "tags": []
          },
          "execution_count": 51
        },
        {
          "output_type": "display_data",
          "data": {
            "image/png": "[encoded data removed]",
            "text/plain": [
              "<Figure size 432x288 with 100 Axes>"
            ]
          },
          "metadata": {
            "tags": []
          }
        }
      ]
    },
    {
      "cell_type": "code",
      "metadata": {
        "colab": {
          "base_uri": "https://localhost:8080/",
          "height": 276
        },
        "id": "xh1XQZvT_7OY",
        "outputId": "d0954902-97df-4a2c-ecda-201f612523ab"
      },
      "source": [
        "gasturbines.plot(kind='box', subplots=True, layout=(11,11), sharex=False, sharey=True)"
      ],
      "execution_count": 52,
      "outputs": [
        {
          "output_type": "execute_result",
          "data": {
            "text/plain": [
              "AT        AxesSubplot(0.125,0.821923;0.0596154x0.0580769)\n",
              "AP      AxesSubplot(0.196538,0.821923;0.0596154x0.0580...\n",
              "AH      AxesSubplot(0.268077,0.821923;0.0596154x0.0580...\n",
              "AFDP    AxesSubplot(0.339615,0.821923;0.0596154x0.0580...\n",
              "GTEP    AxesSubplot(0.411154,0.821923;0.0596154x0.0580...\n",
              "TIT     AxesSubplot(0.482692,0.821923;0.0596154x0.0580...\n",
              "TAT     AxesSubplot(0.554231,0.821923;0.0596154x0.0580...\n",
              "TEY     AxesSubplot(0.625769,0.821923;0.0596154x0.0580...\n",
              "CDP     AxesSubplot(0.697308,0.821923;0.0596154x0.0580...\n",
              "CO      AxesSubplot(0.768846,0.821923;0.0596154x0.0580...\n",
              "NOX     AxesSubplot(0.840385,0.821923;0.0596154x0.0580...\n",
              "dtype: object"
            ]
          },
          "metadata": {
            "tags": []
          },
          "execution_count": 52
        },
        {
          "output_type": "display_data",
          "data": {
            "image/png": "[encoded data removed]",
            "text/plain": [
              "<Figure size 432x288 with 121 Axes>"
            ]
          },
          "metadata": {
            "tags": []
          }
        }
      ]
    },
    {
      "cell_type": "code",
      "metadata": {
        "colab": {
          "base_uri": "https://localhost:8080/",
          "height": 1000
        },
        "id": "DQTW6Y4fAGmL",
        "outputId": "30226389-6279-4a62-d470-5d196335bead"
      },
      "source": [
        "pd.plotting.scatter_matrix(gasturbines)"
      ],
      "execution_count": 54,
      "outputs": [
        {
          "output_type": "execute_result",
          "data": {
            "text/plain": [
              "array([[<matplotlib.axes._subplots.AxesSubplot object at 0x7fd3bbfe0190>,\n",
              "        <matplotlib.axes._subplots.AxesSubplot object at 0x7fd3bbf42d90>,\n",
              "        <matplotlib.axes._subplots.AxesSubplot object at 0x7fd3bbef9450>,\n",
              "        <matplotlib.axes._subplots.AxesSubplot object at 0x7fd3bbeb0ad0>,\n",
              "        <matplotlib.axes._subplots.AxesSubplot object at 0x7fd3bbe72190>,\n",
              "        <matplotlib.axes._subplots.AxesSubplot object at 0x7fd3bbea7810>,\n",
              "        <matplotlib.axes._subplots.AxesSubplot object at 0x7fd3bbe51990>,\n",
              "        <matplotlib.axes._subplots.AxesSubplot object at 0x7fd3bbe216d0>,\n",
              "        <matplotlib.axes._subplots.AxesSubplot object at 0x7fd3bbe21710>,\n",
              "        <matplotlib.axes._subplots.AxesSubplot object at 0x7fd3bbdd6e90>,\n",
              "        <matplotlib.axes._subplots.AxesSubplot object at 0x7fd3bbd52b90>],\n",
              "       [<matplotlib.axes._subplots.AxesSubplot object at 0x7fd3bbd160d0>,\n",
              "        <matplotlib.axes._subplots.AxesSubplot object at 0x7fd3bbcca610>,\n",
              "        <matplotlib.axes._subplots.AxesSubplot object at 0x7fd3bbc7fb90>,\n",
              "        <matplotlib.axes._subplots.AxesSubplot object at 0x7fd3bbc42150>,\n",
              "        <matplotlib.axes._subplots.AxesSubplot object at 0x7fd3bbbf66d0>,\n",
              "        <matplotlib.axes._subplots.AxesSubplot object at 0x7fd3bbc2cc50>,\n",
              "        <matplotlib.axes._subplots.AxesSubplot object at 0x7fd3bbbee210>,\n",
              "        <matplotlib.axes._subplots.AxesSubplot object at 0x7fd3bbba4790>,\n",
              "        <matplotlib.axes._subplots.AxesSubplot object at 0x7fd3bbb5ad10>,\n",
              "        <matplotlib.axes._subplots.AxesSubplot object at 0x7fd3bbb1c2d0>,\n",
              "        <matplotlib.axes._subplots.AxesSubplot object at 0x7fd3bbad1850>],\n",
              "       [<matplotlib.axes._subplots.AxesSubplot object at 0x7fd3bba86dd0>,\n",
              "        <matplotlib.axes._subplots.AxesSubplot object at 0x7fd3bba49390>,\n",
              "        <matplotlib.axes._subplots.AxesSubplot object at 0x7fd3bba00910>,\n",
              "        <matplotlib.axes._subplots.AxesSubplot object at 0x7fd3bb9b3e90>,\n",
              "        <matplotlib.axes._subplots.AxesSubplot object at 0x7fd3bb977450>,\n",
              "        <matplotlib.axes._subplots.AxesSubplot object at 0x7fd3bb9ad9d0>,\n",
              "        <matplotlib.axes._subplots.AxesSubplot object at 0x7fd3bb962f50>,\n",
              "        <matplotlib.axes._subplots.AxesSubplot object at 0x7fd3bb923510>,\n",
              "        <matplotlib.axes._subplots.AxesSubplot object at 0x7fd3bb8d8a90>,\n",
              "        <matplotlib.axes._subplots.AxesSubplot object at 0x7fd3bb88ffd0>,\n",
              "        <matplotlib.axes._subplots.AxesSubplot object at 0x7fd3bb8505d0>],\n",
              "       [<matplotlib.axes._subplots.AxesSubplot object at 0x7fd3bb806b50>,\n",
              "        <matplotlib.axes._subplots.AxesSubplot object at 0x7fd3bb7c9110>,\n",
              "        <matplotlib.axes._subplots.AxesSubplot object at 0x7fd3bb77d690>,\n",
              "        <matplotlib.axes._subplots.AxesSubplot object at 0x7fd3bb733c10>,\n",
              "        <matplotlib.axes._subplots.AxesSubplot object at 0x7fd3bb6f2210>,\n",
              "        <matplotlib.axes._subplots.AxesSubplot object at 0x7fd3bb726790>,\n",
              "        <matplotlib.axes._subplots.AxesSubplot object at 0x7fd3bb6dbd10>,\n",
              "        <matplotlib.axes._subplots.AxesSubplot object at 0x7fd3bb69c2d0>,\n",
              "        <matplotlib.axes._subplots.AxesSubplot object at 0x7fd3bb652850>,\n",
              "        <matplotlib.axes._subplots.AxesSubplot object at 0x7fd3bb607dd0>,\n",
              "        <matplotlib.axes._subplots.AxesSubplot object at 0x7fd3bb5cb390>],\n",
              "       [<matplotlib.axes._subplots.AxesSubplot object at 0x7fd3bb581910>,\n",
              "        <matplotlib.axes._subplots.AxesSubplot object at 0x7fd3bb534e90>,\n",
              "        <matplotlib.axes._subplots.AxesSubplot object at 0x7fd3bb4f7450>,\n",
              "        <matplotlib.axes._subplots.AxesSubplot object at 0x7fd3bb52d9d0>,\n",
              "        <matplotlib.axes._subplots.AxesSubplot object at 0x7fd3bb4e2f50>,\n",
              "        <matplotlib.axes._subplots.AxesSubplot object at 0x7fd3bb4a4510>,\n",
              "        <matplotlib.axes._subplots.AxesSubplot object at 0x7fd3bb45aa90>,\n",
              "        <matplotlib.axes._subplots.AxesSubplot object at 0x7fd3bb412fd0>,\n",
              "        <matplotlib.axes._subplots.AxesSubplot object at 0x7fd3bb3d35d0>,\n",
              "        <matplotlib.axes._subplots.AxesSubplot object at 0x7fd3bb389b50>,\n",
              "        <matplotlib.axes._subplots.AxesSubplot object at 0x7fd3bb34d110>],\n",
              "       [<matplotlib.axes._subplots.AxesSubplot object at 0x7fd3bb302690>,\n",
              "        <matplotlib.axes._subplots.AxesSubplot object at 0x7fd3bb2b5c10>,\n",
              "        <matplotlib.axes._subplots.AxesSubplot object at 0x7fd3bb27a1d0>,\n",
              "        <matplotlib.axes._subplots.AxesSubplot object at 0x7fd3bb2ae750>,\n",
              "        <matplotlib.axes._subplots.AxesSubplot object at 0x7fd3bb265cd0>,\n",
              "        <matplotlib.axes._subplots.AxesSubplot object at 0x7fd3bb225290>,\n",
              "        <matplotlib.axes._subplots.AxesSubplot object at 0x7fd3bb1db810>,\n",
              "        <matplotlib.axes._subplots.AxesSubplot object at 0x7fd3bb191d90>,\n",
              "        <matplotlib.axes._subplots.AxesSubplot object at 0x7fd3bb152350>,\n",
              "        <matplotlib.axes._subplots.AxesSubplot object at 0x7fd3bb1078d0>,\n",
              "        <matplotlib.axes._subplots.AxesSubplot object at 0x7fd3bb0bde50>],\n",
              "       [<matplotlib.axes._subplots.AxesSubplot object at 0x7fd3bb080410>,\n",
              "        <matplotlib.axes._subplots.AxesSubplot object at 0x7fd3bb036990>,\n",
              "        <matplotlib.axes._subplots.AxesSubplot object at 0x7fd3bb06df10>,\n",
              "        <matplotlib.axes._subplots.AxesSubplot object at 0x7fd3bb02e4d0>,\n",
              "        <matplotlib.axes._subplots.AxesSubplot object at 0x7fd3bafe4a50>,\n",
              "        <matplotlib.axes._subplots.AxesSubplot object at 0x7fd3baf8fad0>,\n",
              "        <matplotlib.axes._subplots.AxesSubplot object at 0x7fd3baf5a590>,\n",
              "        <matplotlib.axes._subplots.AxesSubplot object at 0x7fd3baf0fb10>,\n",
              "        <matplotlib.axes._subplots.AxesSubplot object at 0x7fd3baed30d0>,\n",
              "        <matplotlib.axes._subplots.AxesSubplot object at 0x7fd3bae8a650>,\n",
              "        <matplotlib.axes._subplots.AxesSubplot object at 0x7fd3bae3ebd0>],\n",
              "       [<matplotlib.axes._subplots.AxesSubplot object at 0x7fd3bae01190>,\n",
              "        <matplotlib.axes._subplots.AxesSubplot object at 0x7fd3badb6710>,\n",
              "        <matplotlib.axes._subplots.AxesSubplot object at 0x7fd3badeac90>,\n",
              "        <matplotlib.axes._subplots.AxesSubplot object at 0x7fd3bad31350>,\n",
              "        <matplotlib.axes._subplots.AxesSubplot object at 0x7fd3bad69790>,\n",
              "        <matplotlib.axes._subplots.AxesSubplot object at 0x7fd3bad1fd50>,\n",
              "        <matplotlib.axes._subplots.AxesSubplot object at 0x7fd3bace32d0>,\n",
              "        <matplotlib.axes._subplots.AxesSubplot object at 0x7fd3bac97850>,\n",
              "        <matplotlib.axes._subplots.AxesSubplot object at 0x7fd3bac49dd0>,\n",
              "        <matplotlib.axes._subplots.AxesSubplot object at 0x7fd3bac0b390>,\n",
              "        <matplotlib.axes._subplots.AxesSubplot object at 0x7fd3babbe910>],\n",
              "       [<matplotlib.axes._subplots.AxesSubplot object at 0x7fd3bab74e90>,\n",
              "        <matplotlib.axes._subplots.AxesSubplot object at 0x7fd3bab38450>,\n",
              "        <matplotlib.axes._subplots.AxesSubplot object at 0x7fd3bab6e9d0>,\n",
              "        <matplotlib.axes._subplots.AxesSubplot object at 0x7fd3bab24f50>,\n",
              "        <matplotlib.axes._subplots.AxesSubplot object at 0x7fd3baae6510>,\n",
              "        <matplotlib.axes._subplots.AxesSubplot object at 0x7fd3baa9aa90>,\n",
              "        <matplotlib.axes._subplots.AxesSubplot object at 0x7fd3baa52fd0>,\n",
              "        <matplotlib.axes._subplots.AxesSubplot object at 0x7fd3baa135d0>,\n",
              "        <matplotlib.axes._subplots.AxesSubplot object at 0x7fd3ba9c8b50>,\n",
              "        <matplotlib.axes._subplots.AxesSubplot object at 0x7fd3ba98a110>,\n",
              "        <matplotlib.axes._subplots.AxesSubplot object at 0x7fd3ba941690>],\n",
              "       [<matplotlib.axes._subplots.AxesSubplot object at 0x7fd3ba8f7c10>,\n",
              "        <matplotlib.axes._subplots.AxesSubplot object at 0x7fd3ba8ba1d0>,\n",
              "        <matplotlib.axes._subplots.AxesSubplot object at 0x7fd3ba8ee750>,\n",
              "        <matplotlib.axes._subplots.AxesSubplot object at 0x7fd3ba8a4cd0>,\n",
              "        <matplotlib.axes._subplots.AxesSubplot object at 0x7fd3ba867290>,\n",
              "        <matplotlib.axes._subplots.AxesSubplot object at 0x7fd3bd6c7910>,\n",
              "        <matplotlib.axes._subplots.AxesSubplot object at 0x7fd3bc168510>,\n",
              "        <matplotlib.axes._subplots.AxesSubplot object at 0x7fd3bbfdcdd0>,\n",
              "        <matplotlib.axes._subplots.AxesSubplot object at 0x7fd3bbebce10>,\n",
              "        <matplotlib.axes._subplots.AxesSubplot object at 0x7fd3bc00f910>,\n",
              "        <matplotlib.axes._subplots.AxesSubplot object at 0x7fd3c911fe90>],\n",
              "       [<matplotlib.axes._subplots.AxesSubplot object at 0x7fd3ba6ff410>,\n",
              "        <matplotlib.axes._subplots.AxesSubplot object at 0x7fd3ba6b2a90>,\n",
              "        <matplotlib.axes._subplots.AxesSubplot object at 0x7fd3ba675150>,\n",
              "        <matplotlib.axes._subplots.AxesSubplot object at 0x7fd3ba6ad7d0>,\n",
              "        <matplotlib.axes._subplots.AxesSubplot object at 0x7fd3ba661e50>,\n",
              "        <matplotlib.axes._subplots.AxesSubplot object at 0x7fd3ba625510>,\n",
              "        <matplotlib.axes._subplots.AxesSubplot object at 0x7fd3ba5dab90>,\n",
              "        <matplotlib.axes._subplots.AxesSubplot object at 0x7fd3ba59e250>,\n",
              "        <matplotlib.axes._subplots.AxesSubplot object at 0x7fd3ba5528d0>,\n",
              "        <matplotlib.axes._subplots.AxesSubplot object at 0x7fd3ba508f50>,\n",
              "        <matplotlib.axes._subplots.AxesSubplot object at 0x7fd3ba4ca610>]],\n",
              "      dtype=object)"
            ]
          },
          "metadata": {
            "tags": []
          },
          "execution_count": 54
        },
        {
          "output_type": "display_data",
          "data": {
            "image/png": "[encoded data removed]",
            "text/plain": [
              "<Figure size 432x288 with 121 Axes>"
            ]
          },
          "metadata": {
            "tags": []
          }
        }
      ]
    },
    {
      "cell_type": "code",
      "metadata": {
        "colab": {
          "base_uri": "https://localhost:8080/",
          "height": 464
        },
        "id": "m2n0nJwCAX1g",
        "outputId": "a56ce468-22e8-41f7-f541-2d2853e5366f"
      },
      "source": [
        "fig = plt.figure()\n",
        "ax = fig.add_subplot(111)\n",
        "cax = ax.matshow(gasturbines.corr(), vmin=-1, vmax=1)\n",
        "fig.colorbar(cax)\n",
        "ticks = np.arange(0,13,1)\n",
        "ax.set_xticks(ticks)\n",
        "ax.set_yticks(ticks)\n",
        "ax.set_xticklabels(gasturbines.columns)\n",
        "ax.set_yticklabels(gasturbines.columns)"
      ],
      "execution_count": 56,
      "outputs": [
        {
          "output_type": "execute_result",
          "data": {
            "text/plain": [
              "[Text(0, 0, 'AT'),\n",
              " Text(0, 0, 'AP'),\n",
              " Text(0, 0, 'AH'),\n",
              " Text(0, 0, 'AFDP'),\n",
              " Text(0, 0, 'GTEP'),\n",
              " Text(0, 0, 'TIT'),\n",
              " Text(0, 0, 'TAT'),\n",
              " Text(0, 0, 'TEY'),\n",
              " Text(0, 0, 'CDP'),\n",
              " Text(0, 0, 'CO'),\n",
              " Text(0, 0, 'NOX')]"
            ]
          },
          "metadata": {
            "tags": []
          },
          "execution_count": 56
        },
        {
          "output_type": "display_data",
          "data": {
            "image/png": "[encoded data removed]",
            "text/plain": [
              "<Figure size 432x288 with 2 Axes>"
            ]
          },
          "metadata": {
            "tags": []
          }
        }
      ]
    },
    {
      "cell_type": "code",
      "metadata": {
        "colab": {
          "base_uri": "https://localhost:8080/"
        },
        "id": "OFI2NlkmAoxZ",
        "outputId": "aef10f95-ed32-406a-e3ba-8a893f1d62d4"
      },
      "source": [
        "print(\"Correlation:\", gasturbines.corr(method='pearson'))"
      ],
      "execution_count": 57,
      "outputs": [
        {
          "output_type": "stream",
          "text": [
            "Correlation:             AT        AP        AH  ...       CDP        CO       NOX\n",
            "AT    1.000000 -0.412953 -0.549432  ... -0.100705 -0.088588 -0.600006\n",
            "AP   -0.412953  1.000000  0.042573  ...  0.131198  0.041614  0.256744\n",
            "AH   -0.549432  0.042573  1.000000  ... -0.182010  0.165505  0.143061\n",
            "AFDP -0.099333  0.040318 -0.119249  ...  0.727152 -0.334207 -0.037299\n",
            "GTEP -0.049103  0.078575 -0.202784  ...  0.993784 -0.508259 -0.208496\n",
            "TIT   0.093067  0.029650 -0.247781  ...  0.887238 -0.688272 -0.231636\n",
            "TAT   0.338569 -0.223479  0.010859  ... -0.744740  0.063404  0.009888\n",
            "TEY  -0.207495  0.146939 -0.110272  ...  0.988473 -0.541751 -0.102631\n",
            "CDP  -0.100705  0.131198 -0.182010  ...  1.000000 -0.520783 -0.169103\n",
            "CO   -0.088588  0.041614  0.165505  ... -0.520783  1.000000  0.316743\n",
            "NOX  -0.600006  0.256744  0.143061  ... -0.169103  0.316743  1.000000\n",
            "\n",
            "[11 rows x 11 columns]\n"
          ],
          "name": "stdout"
        }
      ]
    }
  ]
}